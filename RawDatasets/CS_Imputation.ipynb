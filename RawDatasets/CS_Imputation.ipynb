{
 "cells": [
  {
   "cell_type": "code",
   "execution_count": 1,
   "metadata": {},
   "outputs": [],
   "source": [
    "import os\n",
    "import pandas as pd"
   ]
  },
  {
   "cell_type": "code",
   "execution_count": 2,
   "metadata": {},
   "outputs": [
    {
     "data": {
      "text/plain": [
       "'/Users/lizzysterling'"
      ]
     },
     "execution_count": 2,
     "metadata": {},
     "output_type": "execute_result"
    }
   ],
   "source": [
    "os.getcwd()"
   ]
  },
  {
   "cell_type": "code",
   "execution_count": 3,
   "metadata": {},
   "outputs": [],
   "source": [
    "path = \"/Users/lizzysterling/Desktop/Term4/Capstone/PostsecondaryAttainment/RawDatasets\""
   ]
  },
  {
   "cell_type": "code",
   "execution_count": 4,
   "metadata": {},
   "outputs": [],
   "source": [
    "os.chdir(path)"
   ]
  },
  {
   "cell_type": "markdown",
   "metadata": {},
   "source": [
    "### We want to change all numeric columns to type numeric so that we can impute the mean, so we need to check the data types"
   ]
  },
  {
   "cell_type": "code",
   "execution_count": 5,
   "metadata": {},
   "outputs": [],
   "source": [
    "d = pd.read_excel(\"mergedData.xlsx\")"
   ]
  },
  {
   "cell_type": "markdown",
   "metadata": {},
   "source": [
    "### Check to see how many null values are in each column"
   ]
  },
  {
   "cell_type": "code",
   "execution_count": null,
   "metadata": {},
   "outputs": [],
   "source": [
    "d.isnull().sum()"
   ]
  },
  {
   "cell_type": "markdown",
   "metadata": {},
   "source": [
    "#### Check the data types"
   ]
  },
  {
   "cell_type": "code",
   "execution_count": null,
   "metadata": {},
   "outputs": [],
   "source": [
    "d.dtypes"
   ]
  },
  {
   "cell_type": "markdown",
   "metadata": {},
   "source": [
    "#### We can see that there are many columns that are meant to be floats that are listed as objects. We need to iteratively go through all of the columns and change these values"
   ]
  },
  {
   "cell_type": "code",
   "execution_count": 6,
   "metadata": {},
   "outputs": [
    {
     "name": "stdout",
     "output_type": "stream",
     "text": [
      "Column  0 remained the same\n",
      "Column  1 remained the same\n",
      "Column  2 was changed to type numeric\n",
      "Column 3 stayed the same\n",
      "Column 4 stayed the same\n",
      "Column  5 was changed to type numeric\n",
      "Column 6 stayed the same\n",
      "Column  7 was changed to type numeric\n",
      "Column  8 was changed to type numeric\n",
      "Column  9 was changed to type numeric\n",
      "Column  10 was changed to type numeric\n",
      "Column  11 was changed to type numeric\n",
      "Column  12 was changed to type numeric\n",
      "Column 13 stayed the same\n",
      "Column  14 was changed to type numeric\n",
      "Column 15 stayed the same\n",
      "Column  16 was changed to type numeric\n",
      "Column 17 stayed the same\n",
      "Column  18 was changed to type numeric\n",
      "Column 19 stayed the same\n",
      "Column  20 was changed to type numeric\n",
      "Column 21 stayed the same\n",
      "Column  22 was changed to type numeric\n",
      "Column 23 stayed the same\n",
      "Column  24 was changed to type numeric\n",
      "Column  25 was changed to type numeric\n",
      "Column  26 was changed to type numeric\n",
      "Column  27 was changed to type numeric\n",
      "Column 28 stayed the same\n",
      "Column  29 was changed to type numeric\n",
      "Column 30 stayed the same\n",
      "Column  31 was changed to type numeric\n",
      "Column 32 stayed the same\n",
      "Column  33 was changed to type numeric\n",
      "Column 34 stayed the same\n",
      "Column  35 was changed to type numeric\n",
      "Column 36 stayed the same\n",
      "Column  37 was changed to type numeric\n",
      "Column  38 was changed to type numeric\n",
      "Column 39 stayed the same\n",
      "Column 40 stayed the same\n",
      "Column  41 was changed to type numeric\n",
      "Column 42 stayed the same\n",
      "Column  43 was changed to type numeric\n",
      "Column  44 was changed to type numeric\n",
      "Column  45 was changed to type numeric\n",
      "Column  46 was changed to type numeric\n",
      "Column  47 was changed to type numeric\n",
      "Column  48 was changed to type numeric\n",
      "Column  49 was changed to type numeric\n",
      "Column 50 stayed the same\n",
      "Column 51 stayed the same\n",
      "Column  52 was changed to type numeric\n",
      "Column 53 stayed the same\n",
      "Column  54 was changed to type numeric\n",
      "Column  55 was changed to type numeric\n",
      "Column  56 was changed to type numeric\n",
      "Column  57 was changed to type numeric\n",
      "Column  58 was changed to type numeric\n",
      "Column  59 was changed to type numeric\n",
      "Column  60 was changed to type numeric\n",
      "Column 61 stayed the same\n",
      "Column 62 stayed the same\n",
      "Column  63 was changed to type numeric\n",
      "Column 64 stayed the same\n",
      "Column  65 was changed to type numeric\n",
      "Column  66 was changed to type numeric\n",
      "Column  67 was changed to type numeric\n",
      "Column  68 was changed to type numeric\n",
      "Column  69 was changed to type numeric\n",
      "Column  70 was changed to type numeric\n",
      "Column 71 stayed the same\n",
      "Column  72 was changed to type numeric\n",
      "Column 73 stayed the same\n",
      "Column  74 was changed to type numeric\n",
      "Column  75 was changed to type numeric\n",
      "Column  76 was changed to type numeric\n",
      "Column  77 was changed to type numeric\n",
      "Column  78 was changed to type numeric\n",
      "Column  79 was changed to type numeric\n",
      "Column  80 was changed to type numeric\n",
      "Column 81 stayed the same\n",
      "Column 82 stayed the same\n",
      "Column  83 was changed to type numeric\n",
      "Column  84 was changed to type numeric\n",
      "Column  85 was changed to type numeric\n",
      "Column  86 was changed to type numeric\n",
      "Column  87 was changed to type numeric\n",
      "Column  88 was changed to type numeric\n",
      "Column  89 was changed to type numeric\n",
      "Column 90 stayed the same\n",
      "Column  91 was changed to type numeric\n",
      "Column  92 was changed to type numeric\n",
      "Column  93 was changed to type numeric\n",
      "Column  94 was changed to type numeric\n",
      "Column  95 was changed to type numeric\n",
      "Column 96 stayed the same\n",
      "Column  97 was changed to type numeric\n",
      "Column 98 stayed the same\n",
      "Column  99 was changed to type numeric\n",
      "Column  100 was changed to type numeric\n",
      "Column  101 was changed to type numeric\n",
      "Column 102 stayed the same\n",
      "Column  103 was changed to type numeric\n",
      "Column 104 stayed the same\n",
      "Column  105 was changed to type numeric\n",
      "Column 106 stayed the same\n",
      "Column  107 was changed to type numeric\n",
      "Column 108 stayed the same\n",
      "Column  109 was changed to type numeric\n",
      "Column 110 stayed the same\n",
      "Column  111 was changed to type numeric\n",
      "Column 112 stayed the same\n",
      "Column  113 was changed to type numeric\n",
      "Column 114 stayed the same\n",
      "Column  115 was changed to type numeric\n",
      "Column 116 stayed the same\n",
      "Column  117 was changed to type numeric\n",
      "Column 118 stayed the same\n",
      "Column  119 was changed to type numeric\n",
      "Column 120 stayed the same\n",
      "Column  121 was changed to type numeric\n",
      "Column 122 stayed the same\n",
      "Column  123 was changed to type numeric\n",
      "Column  124 was changed to type numeric\n",
      "Column 125 stayed the same\n",
      "Column 126 stayed the same\n",
      "Column  127 was changed to type numeric\n",
      "Column 128 stayed the same\n",
      "Column  129 was changed to type numeric\n",
      "Column  130 was changed to type numeric\n",
      "Column  131 was changed to type numeric\n",
      "Column  132 was changed to type numeric\n",
      "Column  133 was changed to type numeric\n",
      "Column  134 was changed to type numeric\n",
      "Column  135 was changed to type numeric\n",
      "Column 136 stayed the same\n",
      "Column 137 stayed the same\n",
      "Column  138 was changed to type numeric\n",
      "Column 139 stayed the same\n",
      "Column  140 was changed to type numeric\n",
      "Column  141 was changed to type numeric\n",
      "Column  142 was changed to type numeric\n",
      "Column  143 was changed to type numeric\n",
      "Column  144 was changed to type numeric\n",
      "Column  145 was changed to type numeric\n",
      "Column  146 was changed to type numeric\n",
      "Column 147 stayed the same\n",
      "Column 148 stayed the same\n",
      "Column  149 was changed to type numeric\n",
      "Column 150 stayed the same\n",
      "Column  151 was changed to type numeric\n",
      "Column  152 was changed to type numeric\n",
      "Column  153 was changed to type numeric\n",
      "Column  154 was changed to type numeric\n",
      "Column  155 was changed to type numeric\n",
      "Column  156 was changed to type numeric\n",
      "Column  157 was changed to type numeric\n",
      "Column 158 stayed the same\n",
      "Column 159 stayed the same\n",
      "Column  160 was changed to type numeric\n",
      "Column 161 stayed the same\n",
      "Column  162 was changed to type numeric\n",
      "Column  163 was changed to type numeric\n",
      "Column  164 was changed to type numeric\n",
      "Column  165 was changed to type numeric\n",
      "Column  166 was changed to type numeric\n",
      "Column  167 was changed to type numeric\n",
      "Column 168 stayed the same\n",
      "Column  169 was changed to type numeric\n",
      "Column  170 was changed to type numeric\n",
      "Column  171 was changed to type numeric\n",
      "Column  172 was changed to type numeric\n",
      "Column 173 stayed the same\n",
      "Column  174 was changed to type numeric\n",
      "Column  175 was changed to type numeric\n",
      "Column  176 was changed to type numeric\n",
      "Column  177 was changed to type numeric\n",
      "Column 178 stayed the same\n",
      "Column  179 was changed to type numeric\n",
      "Column  180 was changed to type numeric\n",
      "Column  181 was changed to type numeric\n",
      "Column  182 was changed to type numeric\n",
      "Column 183 stayed the same\n",
      "Column  184 was changed to type numeric\n",
      "Column  185 was changed to type numeric\n",
      "Column  186 was changed to type numeric\n",
      "Column  187 was changed to type numeric\n",
      "Column 188 stayed the same\n",
      "Column  189 was changed to type numeric\n",
      "Column  190 was changed to type numeric\n",
      "Column  191 was changed to type numeric\n",
      "Column  192 was changed to type numeric\n",
      "Column 193 stayed the same\n",
      "Column  194 was changed to type numeric\n",
      "Column  195 was changed to type numeric\n",
      "Column  196 was changed to type numeric\n",
      "Column  197 was changed to type numeric\n",
      "Column 198 stayed the same\n",
      "Column  199 was changed to type numeric\n",
      "Column  200 was changed to type numeric\n",
      "Column  201 was changed to type numeric\n",
      "Column  202 was changed to type numeric\n",
      "Column 203 stayed the same\n",
      "Column  204 was changed to type numeric\n",
      "Column  205 was changed to type numeric\n",
      "Column  206 was changed to type numeric\n",
      "Column  207 was changed to type numeric\n",
      "Column 208 stayed the same\n"
     ]
    },
    {
     "ename": "ValueError",
     "evalue": "invalid literal for float(): 86% 100",
     "output_type": "error",
     "traceback": [
      "\u001b[0;31m---------------------------------------------------------------------------\u001b[0m",
      "\u001b[0;31mValueError\u001b[0m                                Traceback (most recent call last)",
      "\u001b[0;32m<ipython-input-6-130fcd59843b>\u001b[0m in \u001b[0;36m<module>\u001b[0;34m()\u001b[0m\n\u001b[1;32m      7\u001b[0m                 \u001b[0;32mcontinue\u001b[0m\u001b[0;34m\u001b[0m\u001b[0m\n\u001b[1;32m      8\u001b[0m             \u001b[0;32melif\u001b[0m \u001b[0;34m\"%\"\u001b[0m \u001b[0;32min\u001b[0m \u001b[0md\u001b[0m\u001b[0;34m.\u001b[0m\u001b[0miloc\u001b[0m\u001b[0;34m[\u001b[0m\u001b[0mvalue\u001b[0m\u001b[0;34m,\u001b[0m\u001b[0mcolumn\u001b[0m\u001b[0;34m]\u001b[0m\u001b[0;34m:\u001b[0m \u001b[0;31m# one of the issues is percentages\u001b[0m\u001b[0;34m\u001b[0m\u001b[0m\n\u001b[0;32m----> 9\u001b[0;31m                 \u001b[0md\u001b[0m\u001b[0;34m.\u001b[0m\u001b[0miloc\u001b[0m\u001b[0;34m[\u001b[0m\u001b[0mvalue\u001b[0m\u001b[0;34m,\u001b[0m\u001b[0mcolumn\u001b[0m\u001b[0;34m]\u001b[0m \u001b[0;34m=\u001b[0m \u001b[0mfloat\u001b[0m\u001b[0;34m(\u001b[0m\u001b[0md\u001b[0m\u001b[0;34m.\u001b[0m\u001b[0miloc\u001b[0m\u001b[0;34m[\u001b[0m\u001b[0mvalue\u001b[0m\u001b[0;34m,\u001b[0m\u001b[0mcolumn\u001b[0m\u001b[0;34m]\u001b[0m\u001b[0;34m.\u001b[0m\u001b[0mstrip\u001b[0m\u001b[0;34m(\u001b[0m\u001b[0;34m\"%\"\u001b[0m\u001b[0;34m)\u001b[0m\u001b[0;34m)\u001b[0m\u001b[0;34m/\u001b[0m\u001b[0;36m100\u001b[0m\u001b[0;34m\u001b[0m\u001b[0m\n\u001b[0m\u001b[1;32m     10\u001b[0m             \u001b[0;32melif\u001b[0m \u001b[0;34m\",\"\u001b[0m \u001b[0;32min\u001b[0m \u001b[0md\u001b[0m\u001b[0;34m.\u001b[0m\u001b[0miloc\u001b[0m\u001b[0;34m[\u001b[0m\u001b[0mvalue\u001b[0m\u001b[0;34m,\u001b[0m \u001b[0mcolumn\u001b[0m\u001b[0;34m]\u001b[0m\u001b[0;34m:\u001b[0m \u001b[0;31m# another issues is commas\u001b[0m\u001b[0;34m\u001b[0m\u001b[0m\n\u001b[1;32m     11\u001b[0m                 \u001b[0md\u001b[0m\u001b[0;34m.\u001b[0m\u001b[0miloc\u001b[0m\u001b[0;34m[\u001b[0m\u001b[0mvalue\u001b[0m\u001b[0;34m,\u001b[0m \u001b[0mcolumn\u001b[0m\u001b[0;34m]\u001b[0m \u001b[0;34m=\u001b[0m \u001b[0mfloat\u001b[0m\u001b[0;34m(\u001b[0m\u001b[0md\u001b[0m\u001b[0;34m.\u001b[0m\u001b[0miloc\u001b[0m\u001b[0;34m[\u001b[0m\u001b[0mvalue\u001b[0m\u001b[0;34m,\u001b[0m \u001b[0mcolumn\u001b[0m\u001b[0;34m]\u001b[0m\u001b[0;34m.\u001b[0m\u001b[0mreplace\u001b[0m\u001b[0;34m(\u001b[0m\u001b[0;34m\",\"\u001b[0m\u001b[0;34m,\u001b[0m \u001b[0;34m\"\"\u001b[0m\u001b[0;34m)\u001b[0m\u001b[0;34m)\u001b[0m\u001b[0;34m\u001b[0m\u001b[0m\n",
      "\u001b[0;31mValueError\u001b[0m: invalid literal for float(): 86% 100"
     ]
    }
   ],
   "source": [
    "for column in range(len(d.columns)): #loops through every column in the data set\n",
    "    if d.iloc[:,column].isnull().sum() == 0: #these are the string columns that do not need to be changed\n",
    "        print \"Column \", column , \"remained the same\"\n",
    "    elif d.iloc[:,column].dtype == \"object\": #if the column is of type object (percentages)\n",
    "        for value in range(len(d)):\n",
    "            if pd.isnull(d.iloc[value,column]):\n",
    "                continue\n",
    "            elif \"%\" in d.iloc[value,column]: # one of the issues is percentages\n",
    "                d.iloc[value,column] = float(d.iloc[value,column].strip(\"%\"))/100\n",
    "            elif \",\" in d.iloc[value, column]: # another issues is commas\n",
    "                d.iloc[value, column] = float(d.iloc[value, column].replace(\",\", \"\"))\n",
    "            elif d.iloc[value,column] == \"*\":\n",
    "                d.iloc[value, column] = None\n",
    "            else:\n",
    "                continue\n",
    "        print \"Column \", column, \"was changed to type numeric\"\n",
    "        d.iloc[:,column] = pd.to_numeric(d.iloc[:,column])\n",
    "    else:\n",
    "        print \"Column\", column, \"stayed the same\"\n",
    "                \n",
    "       \n",
    "    \n",
    "                "
   ]
  },
  {
   "cell_type": "code",
   "execution_count": null,
   "metadata": {},
   "outputs": [],
   "source": [
    "d.dtypes"
   ]
  },
  {
   "cell_type": "markdown",
   "metadata": {},
   "source": [
    "It appears that all of our previous object types are now floats, so we can now impute using the mean values.\n",
    "\n",
    "*Note that the first two columns are still objects - they contain string values indicating county and college name*"
   ]
  },
  {
   "cell_type": "code",
   "execution_count": 7,
   "metadata": {},
   "outputs": [],
   "source": [
    "df = d.fillna(d.mean()) # run this once all of the columns are of the proper type"
   ]
  },
  {
   "cell_type": "code",
   "execution_count": 8,
   "metadata": {},
   "outputs": [
    {
     "data": {
      "text/plain": [
       "County                                                              0\n",
       "College Name                                                        0\n",
       "AdvESL_MeasureableSkills_Participant_POP_MSG                        0\n",
       "AdvESL_MeasureableSkills_IndividualsServed                          0\n",
       "AdvESL_MeasureableSkills_Participants12+Hours                       0\n",
       "AdvESL_MeasureableSkills_ParticipServed                             0\n",
       "AdvESL_MeasureableSkills_POPs                                       0\n",
       "AdvESL_MeasureableSkills_AHSGrad                                    0\n",
       "AdvESL_MeasureableSkills_HSE                                        0\n",
       "AdvESL_MeasureableSkills_Postsecondary\\rEnrollment                  0\n",
       "AdvESL_MeasureableSkills_AHSCredits                                 0\n",
       "AdvESL_MeasureableSkills_Post-test                                  0\n",
       "AdvESL_MeasureableSkills_MSG                                        0\n",
       "Beg_ESL_Students                                                    0\n",
       "Beg_ESL_PCTProgress                                                 0\n",
       "LowBeg_ESL_Students                                                 0\n",
       "LowBeg_ESL_PCTProgress                                              0\n",
       "HighBeg_ESL_Students                                                0\n",
       "HighBeg_ESL_PCTProgress                                             0\n",
       "LowInt_ESL_Students                                                 0\n",
       "LowInt_ESL_PCTProgress                                              0\n",
       "HighInt_ESL_Students                                                0\n",
       "HighInt_ESL_PCTProgress                                             0\n",
       "Advanced_ESL_Students                                               0\n",
       "Advanced_ESL_PCTProgress                                            0\n",
       "Basic_Skills_Students\\r(Denominator)                                0\n",
       "Basic_Skills_CompletingLevel\\rLEVEL                                 0\n",
       "Basic_Skills_PCTCompleting                                          0\n",
       "Beg_ABE_Lit_Students                                                0\n",
       "Beg_ABE_Lit_PCTProgress                                             0\n",
       "                                                                   ..\n",
       "Total tax payments_Number of returns                                0\n",
       "Total tax payments_Amount                                           0\n",
       "Earned income credit [7]_Number of returns                          0\n",
       "Earned income credit [7]_Amount                                     0\n",
       "Excess earned income credit \\n(refundable) [8]_Number of returns    0\n",
       "Excess earned income credit \\n(refundable) [8]_Amount               0\n",
       "Additional child tax credit_Number of returns                       0\n",
       "Additional child tax credit_Amount                                  0\n",
       "Refundable education credit_Number of returns                       0\n",
       "Refundable education credit_Amount                                  0\n",
       "Net premium tax credit_Number of returns                            0\n",
       "Net premium tax credit_Amount                                       0\n",
       "Income tax [9]_Number of returns                                    0\n",
       "Income tax [9]_Amount                                               0\n",
       "Total tax liability [10]_Number of returns                          0\n",
       "Total tax liability [10]_Amount                                     0\n",
       "Total additional Medicare tax_Number of returns                     0\n",
       "Total additional Medicare tax_Amount                                0\n",
       "Net investment income tax_Number of returns                         0\n",
       "Net investment income tax_Amount                                    0\n",
       "Tax due at time of filing [11]_Number of returns                    0\n",
       "Tax due at time of filing [11]_Amount                               0\n",
       "Overpayments refunded [12]_Number of returns                        0\n",
       "Overpayments refunded [12]_Amount                                   0\n",
       "$1 under $25,000 Number of Returns                                  0\n",
       "$25,000 under $50,000 Number of Returns                             0\n",
       "$50,000 under $75,000 Number of Returns                             0\n",
       "$75,000 under $100,000 Number of Returns                            0\n",
       "$100,000 under $200,000 Number of Returns                           0\n",
       "$200,000 or more Number of Returns                                  0\n",
       "Length: 2904, dtype: int64"
      ]
     },
     "execution_count": 8,
     "metadata": {},
     "output_type": "execute_result"
    }
   ],
   "source": [
    "df.isnull().sum()"
   ]
  },
  {
   "cell_type": "markdown",
   "metadata": {},
   "source": [
    "We can see that many of our columns are now null-free, but we need to double check since we have so many columns"
   ]
  },
  {
   "cell_type": "code",
   "execution_count": 9,
   "metadata": {},
   "outputs": [
    {
     "data": {
      "text/plain": [
       "149"
      ]
     },
     "execution_count": 9,
     "metadata": {},
     "output_type": "execute_result"
    }
   ],
   "source": [
    "stillNA = df.columns[df.isna().any()].tolist()\n",
    "len(stillNA)"
   ]
  },
  {
   "cell_type": "markdown",
   "metadata": {},
   "source": [
    "We have 149 columns that still contain null values. For the sake of analysis, we are going to remove these columns, but we can come back to them if we need to"
   ]
  },
  {
   "cell_type": "code",
   "execution_count": 10,
   "metadata": {},
   "outputs": [
    {
     "data": {
      "text/plain": [
       "list"
      ]
     },
     "execution_count": 10,
     "metadata": {},
     "output_type": "execute_result"
    }
   ],
   "source": [
    "type(stillNA)"
   ]
  },
  {
   "cell_type": "code",
   "execution_count": 22,
   "metadata": {},
   "outputs": [],
   "source": [
    "for name in stillNA:\n",
    "    #print name\n",
    "    df = df.drop(name, axis=1)\n",
    "    "
   ]
  },
  {
   "cell_type": "markdown",
   "metadata": {},
   "source": [
    "Check that we succesfully removed the columns that contain NAs"
   ]
  },
  {
   "cell_type": "code",
   "execution_count": 23,
   "metadata": {},
   "outputs": [
    {
     "data": {
      "text/plain": [
       "[]"
      ]
     },
     "execution_count": 23,
     "metadata": {},
     "output_type": "execute_result"
    }
   ],
   "source": [
    "df.columns[df.isna().any()].tolist()\n",
    "\n",
    "#df1 = df.drop(\"NucMedTech_PCTPassing2015\", axis = 0)"
   ]
  },
  {
   "cell_type": "code",
   "execution_count": 26,
   "metadata": {},
   "outputs": [],
   "source": [
    "newPath = \"/Users/lizzysterling/Desktop/Term4/Capstone/PostsecondaryAttainment/RawDatasets\""
   ]
  },
  {
   "cell_type": "code",
   "execution_count": 27,
   "metadata": {},
   "outputs": [],
   "source": [
    "os.chdir(newPath)"
   ]
  },
  {
   "cell_type": "code",
   "execution_count": 28,
   "metadata": {},
   "outputs": [],
   "source": [
    "df.to_excel('imputedData.xlsx', index = False)"
   ]
  },
  {
   "cell_type": "code",
   "execution_count": null,
   "metadata": {},
   "outputs": [],
   "source": [
    "finalData.to_excel('mergedData.xlsx', index=False)"
   ]
  }
 ],
 "metadata": {
  "kernelspec": {
   "display_name": "Python 2",
   "language": "python",
   "name": "python2"
  },
  "language_info": {
   "codemirror_mode": {
    "name": "ipython",
    "version": 2
   },
   "file_extension": ".py",
   "mimetype": "text/x-python",
   "name": "python",
   "nbconvert_exporter": "python",
   "pygments_lexer": "ipython2",
   "version": "2.7.15"
  }
 },
 "nbformat": 4,
 "nbformat_minor": 2
}
