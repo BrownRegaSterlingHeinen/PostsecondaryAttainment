{
 "cells": [
  {
   "cell_type": "code",
   "execution_count": 1,
   "metadata": {},
   "outputs": [],
   "source": [
    "# Code from http://stanford.edu/~mgorkove/cgi-bin/rpython_tutorials/Using_Python_to_Extract_Tables_From_PDFs.php\n",
    "# Uses API at https://pdftables.com/pdf-to-excel-api\n",
    "# Import requirements\n",
    "import PyPDF2\n",
    "import requests"
   ]
  },
  {
   "cell_type": "code",
   "execution_count": 2,
   "metadata": {},
   "outputs": [],
   "source": [
    "# Convert pdf to csv\n",
    "def pdfToTable(PDFfilename, apiKey, fileExt, downloadDir):\n",
    "    fileData = (PDFfilename, open(PDFfilename, 'rb'))\n",
    "    files = {'f': fileData}\n",
    "    postUrl = \"https://pdftables.com/api?key={0}&format={1}\".format(apiKey, fileExt)\n",
    "    response = requests.post(postUrl, files=files)\n",
    "    response.raise_for_status()\n",
    "    with open(downloadDir, \"wb\") as f:\n",
    "        f.write(response.content)"
   ]
  },
  {
   "cell_type": "code",
   "execution_count": 3,
   "metadata": {},
   "outputs": [],
   "source": [
    "# Define constraints\n",
    "# PDFfilename = \"Curriculum_Continuing_Education_Detail.pdf\" # Change for all files\n",
    "# apiKey = \"aha52z9fgxmm\" # Noelle's API Key\n",
    "# fileExt = \"csv\" # Can change format if needed\n",
    "# downloadDir = \"Curriculum_Continuing_Education_Detail.csv\" #directory where you want your file downloaded to "
   ]
  },
  {
   "cell_type": "code",
   "execution_count": 8,
   "metadata": {},
   "outputs": [],
   "source": [
    "# Save all pdf's as csv's\n",
    "pdfToTable(\"Curriculum_Continuing_Education_Detail.pdf\", \"aha52z9fgxmm\", \"csv\", \"Curriculum_Continuing_Education_Detail.csv\")\n",
    "pdfToTable(\"Continuing_Education_Student_Enrollment.pdf\", \"aha52z9fgxmm\", \"csv\", \"Continuing_Education_Student_Enrollment.csv\")\n",
    "pdfToTable(\"Curriculum_Continuing_Education.pdf\", \"aha52z9fgxmm\", \"csv\", \"Curriculum_Continuing_Education.csv\")\n",
    "pdfToTable(\"Curriculum_Student_Enrollment.pdf\", \"aha52z9fgxmm\", \"csv\", \"Curriculum_Student_Enrollment.csv\")\n",
    "pdfToTable(\"Measurable_Skill_Gains_Report.pdf\", \"aha52z9fgxmm\", \"csv\", \"Measurable_Skill_Gains_Report.csv\")\n",
    "pdfToTable(\"Performance_Measures_Report.pdf\", \"i9tftyesu2b5\", \"csv\", \"Performance_Measures_Report.csv\")"
   ]
  },
  {
   "cell_type": "code",
   "execution_count": null,
   "metadata": {},
   "outputs": [],
   "source": []
  }
 ],
 "metadata": {
  "kernelspec": {
   "display_name": "Python 3",
   "language": "python",
   "name": "python3"
  },
  "language_info": {
   "codemirror_mode": {
    "name": "ipython",
    "version": 3
   },
   "file_extension": ".py",
   "mimetype": "text/x-python",
   "name": "python",
   "nbconvert_exporter": "python",
   "pygments_lexer": "ipython3",
   "version": "3.6.5"
  }
 },
 "nbformat": 4,
 "nbformat_minor": 2
}
