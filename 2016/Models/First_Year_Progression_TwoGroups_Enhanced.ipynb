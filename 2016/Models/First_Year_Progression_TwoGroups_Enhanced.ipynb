{
 "cells": [
  {
   "cell_type": "code",
   "execution_count": 219,
   "metadata": {
    "collapsed": true
   },
   "outputs": [],
   "source": [
    "import pandas as pd\n",
    "import numpy as np\n",
    "from sklearn.model_selection import train_test_split\n",
    "from sklearn.model_selection import cross_validate\n",
    "from sklearn.linear_model import LinearRegression\n",
    "from sklearn.model_selection import ShuffleSplit\n",
    "from sklearn.tree import DecisionTreeClassifier\n",
    "from sklearn.feature_selection import RFE\n",
    "from sklearn.linear_model import LogisticRegression\n",
    "from sklearn.model_selection import GridSearchCV\n",
    "from sklearn.ensemble import RandomForestClassifier\n",
    "from sklearn.ensemble import AdaBoostClassifier\n",
    "from sklearn.decomposition import PCA\n",
    "from sklearn.neighbors.nearest_centroid import NearestCentroid\n",
    "from sklearn.neighbors import KNeighborsClassifier"
   ]
  },
  {
   "cell_type": "code",
   "execution_count": 220,
   "metadata": {
    "collapsed": true
   },
   "outputs": [],
   "source": [
    "#create cross validation object\n",
    "cv = ShuffleSplit(n_splits=10, test_size=0.20, random_state=0)"
   ]
  },
  {
   "cell_type": "code",
   "execution_count": 221,
   "metadata": {
    "collapsed": true
   },
   "outputs": [],
   "source": [
    "# Load in merged community college data\n",
    "url = 'https://github.com/BrownRegaSterlingHeinen/PostsecondaryAttainment/blob/master/2016/Machine%20Learning%20Datasets/NCCCData_ML.csv?raw=true'\n",
    "NCCCData = pd.read_csv(url)"
   ]
  },
  {
   "cell_type": "code",
   "execution_count": 222,
   "metadata": {},
   "outputs": [
    {
     "data": {
      "text/plain": [
       "['AdvESL_MeasureableSkills_Participant_POP_MSG',\n",
       " 'AdvESL_MeasureableSkills_ParticipServed',\n",
       " 'AdvESL_MeasureableSkills_AHSGrad',\n",
       " 'AdvESL_MeasureableSkills_HSE',\n",
       " 'AdvESL_MeasureableSkills_Postsecondary\\r\\nEnrollment',\n",
       " 'AdvESL_MeasureableSkills_MSG',\n",
       " 'Beg_ESL_PCTProgress',\n",
       " 'LowBeg_ESL_PCTProgress',\n",
       " 'HighBeg_ESL_PCTProgress',\n",
       " 'LowInt_ESL_PCTProgress',\n",
       " 'HighInt_ESL_PCTProgress',\n",
       " 'Advanced_ESL_PCTProgress',\n",
       " 'Basic_Skills_CompletingLevel\\r\\nLEVEL',\n",
       " 'Basic_Skills_PCTCompleting',\n",
       " 'Beg_ABE_Lit_PCTProgress',\n",
       " 'Beg_BasicEd_PCTProgress',\n",
       " 'LowInt_BasicEd_PCTProgress',\n",
       " 'HighInt_BasicEd_PCTProgress',\n",
       " 'Low_AdultSecondary_Students',\n",
       " 'Low_AdultSecondary_PCTProgress',\n",
       " 'BegABELit_Participant_POP_MSG',\n",
       " 'BegABELit_IndividualsServed',\n",
       " 'BegABELit_Particip/Served',\n",
       " 'BegABELit_POPs',\n",
       " 'BegABELit_AHSGrad',\n",
       " 'BegABELit_HSE',\n",
       " 'BegABELit_Postsecondary',\n",
       " 'BegABELit_Posttest',\n",
       " 'BegABELit_MSG',\n",
       " 'BegBasicEd_Participant_POP_MSG',\n",
       " 'BegBasicEd_Particip/Served',\n",
       " 'BegBasicEd_AHSGrad',\n",
       " 'BegBasicEd_HSE',\n",
       " 'BegBasicEd_Postsecondary',\n",
       " 'BegBasicEd_Posttest',\n",
       " 'BegESLLit_Particip/Served',\n",
       " 'BegESLLit_Postsecondary',\n",
       " 'BegESLLit_Posttest',\n",
       " 'BegESLLit_MSG',\n",
       " 'Transfer30+Hours_PCTGreater2.25',\n",
       " 'TransferAssociateDegree_PCTGreater2.25',\n",
       " 'TransferTotal_PCTGreater2.252016',\n",
       " 'FIT',\n",
       " 'HRD',\n",
       " 'NON_OCC_SS',\n",
       " 'OCC_RB',\n",
       " 'OCC_SS',\n",
       " '16-17',\n",
       " '15-16',\n",
       " '% SUCCESSFUL\\r\\n14-15',\n",
       " '13-14',\n",
       " '13-Dec',\n",
       " 'NumStudents1stYearSuccess_Age-15',\n",
       " 'PCT1stYearSuccess_Age-15',\n",
       " 'PCT1stYearSuccess_Age16-17',\n",
       " 'PCT1stYearSuccess_Age18',\n",
       " 'PCT1stYearSuccess_Age19-24',\n",
       " 'NumStudents1stYearSuccess_Age25-39',\n",
       " 'PCT1stYearSuccess_Age25-39',\n",
       " 'NumStudents1stYearSuccess_Age40+',\n",
       " 'PCT1stYearSuccess_Age40+',\n",
       " 'AAF_1stYearSuccessPCT',\n",
       " 'AAM_1stYearSuccessNumStudents',\n",
       " 'AAM_1stYearSuccessPCT',\n",
       " 'CF_1stYearSuccessNumStudents',\n",
       " 'CF_1stYearSuccessPCT',\n",
       " 'CM_1stYearSuccessPCT',\n",
       " 'HF_1stYearSuccessPCT',\n",
       " 'HM_1stYearSuccessPCT',\n",
       " 'OF_1stYearSuccessPCT',\n",
       " 'OM_1stYearSuccessNumStudents',\n",
       " 'OM_1stYearSuccessPCT',\n",
       " 'HighAdultSecEd_Participant_POP_MSG',\n",
       " 'HighAdultSecEd_Participants12+ Hours',\n",
       " 'HighAdultSecEd_Particip/Served',\n",
       " 'HighAdultSecEd_AHSGrad',\n",
       " 'HighAdultSecEd_HSE',\n",
       " 'HighAdultSecEd_Postsecondary',\n",
       " 'HighAdultSecEd_Posttest',\n",
       " 'HighAdultSecEd_MSG',\n",
       " 'HighBegESL_Particip/Served',\n",
       " 'HighBegESL_HSE',\n",
       " 'HighBegESL_Postsecondary',\n",
       " 'HighBegESL_Posttest',\n",
       " 'HighBegESL_MSG',\n",
       " 'HighIntBasicEd_Participant_POP_MSG',\n",
       " 'HighIntBasicEd_Particip/Served',\n",
       " 'HighIntBasicEd_POPs',\n",
       " 'HighIntBasicEd_AHSGrad',\n",
       " 'HighIntBasicEd_HSE',\n",
       " 'HighIntBasicEd_Postsecondary',\n",
       " 'HighIntBasicEd_Posttest',\n",
       " 'HighIntBasicEd_MSG',\n",
       " 'HighInt_ESLMeasureableSkills_Participant_POP_MSG',\n",
       " 'HighInt_ESLMeasureableSkills_Particip/Served',\n",
       " 'HighInt_ESLMeasureableSkills_AHSGrad',\n",
       " 'HighInt_ESLMeasureableSkills_HSE',\n",
       " 'HighInt_ESLMeasureableSkills_Postsecondary',\n",
       " 'HighInt_ESLMeasureableSkills_MSG',\n",
       " 'AviationGeneral_NumTest2017',\n",
       " 'AviationGeneral_PCTPassing2017',\n",
       " 'AviationGeneral_PCTPassing2016',\n",
       " 'AviationGeneral_PCTPassing2015',\n",
       " 'AviationAirframe_NumTest2017',\n",
       " 'AviationAirframe_PCTPassing2017',\n",
       " 'AviationAirframe_PCTPassing2016',\n",
       " 'AviationAirframe_PCTPassing2015',\n",
       " 'AviationAirframe_PCTPassing2014',\n",
       " 'AviationPowerPlant_NumTest2017.1',\n",
       " 'AviationPowerPlant_NumTest2016',\n",
       " 'AviationPowerPlant_NumTest2015',\n",
       " 'Massage_NumTest2017',\n",
       " 'Massage_NumTest2017.1',\n",
       " 'Massage_NumTest2016',\n",
       " 'Massage_NumTest2015',\n",
       " 'Massage_NumTest2014',\n",
       " 'NucMedTech_NumTest2017',\n",
       " 'NucMedTech_PCTPassing2016',\n",
       " 'RadiationTherapy_NumTest2017',\n",
       " 'RadiationTherapy_PCTPassing2017',\n",
       " 'RadiationTherapy_PCTPassing2014',\n",
       " 'Radiography_NumTest2017',\n",
       " 'Radiography_PCTPassing2017',\n",
       " 'Radiography_PCTPassing2016',\n",
       " 'Radiography_PCTPassing2015',\n",
       " 'Radiography_PCTPassing2014',\n",
       " 'RealEstateSales_NumTest2017',\n",
       " 'RealEstateSales_PCTPassing2017',\n",
       " 'RealEstateSales_PCTPassing2016',\n",
       " 'RealEstateSales_PCTPassing2015',\n",
       " 'RealEstateSales_PCTPassing2014',\n",
       " 'CosmeticApprentice_NumTest2017',\n",
       " 'CosmeticApprentice_PCTPassing2017',\n",
       " 'CosmeticApprentice_PCTPassing2016',\n",
       " 'CosmeticApprentice_PCTPassing2015',\n",
       " 'CosmeticApprentice_PCTPassing2014',\n",
       " 'Cosmetology_NumTest2017',\n",
       " 'Cosmetology_PCTPassing2017',\n",
       " 'Cosmetology_PCTPassing2016',\n",
       " 'Cosmetology_PCTPassing2015',\n",
       " 'Cosmetology_PCTPassing2014',\n",
       " 'Esthetician_NumTest2017',\n",
       " 'Esthetician_PCTPassing2017',\n",
       " 'Esthetician_PCTPassing2016',\n",
       " 'Esthetician_PCTPassing2015',\n",
       " 'Esthetician_PCTPassing2014',\n",
       " 'CosmeticInstructor_NumTest2017',\n",
       " 'Manicurist_NumTest2017',\n",
       " 'Manicurist_PCTPassing2017',\n",
       " 'Manicurist_PCTPassing2016',\n",
       " 'Manicurist_PCTPassing2015',\n",
       " 'Manicurist_PCTPassing2014',\n",
       " 'Blet_NumTest2017',\n",
       " 'Blet_PCTPassing2017',\n",
       " 'Blet_PCTPassing2016',\n",
       " 'Blet_PCTPassing2015',\n",
       " 'Blet_PCTPassing2014',\n",
       " 'DetentionOfficer_NumTest2017',\n",
       " 'DetentionOfficer_PCTPassing2017',\n",
       " 'DetentionOfficer_PCTPassing2016',\n",
       " 'DetentionOfficer_PCTPassing2015',\n",
       " 'DetentionOfficer_PCTPassing2014',\n",
       " 'EMTBasic_NumTest2017',\n",
       " 'EMTBasic_PCTPassing2017',\n",
       " 'EMTBasic_PCTPassing2016',\n",
       " 'EMTBasic_PCTPassing2015',\n",
       " 'EMTBasic_PCTPassing2014',\n",
       " 'EMTIntermediate_NumTest2017',\n",
       " 'EMTIntermediate_PCTPassing2017',\n",
       " 'EMTIntermediate_PCTPassing2016',\n",
       " 'EMTIntermediate_PCTPassing2015',\n",
       " 'EMTIntermediate_PCTPassing2014',\n",
       " 'EMTParamedic_NumTest2017',\n",
       " 'EMTParamedic_PCTPassing2017',\n",
       " 'EMTParamedic_PCTPassing2016',\n",
       " 'EMTParamedic_PCTPassing2015',\n",
       " 'EMTParamedic_PCTPassing2014',\n",
       " 'DentalHygiene_NumTest2017',\n",
       " 'DentalHygiene_PCTPassing2017',\n",
       " 'DentalHygiene_PCTPassing2016',\n",
       " 'DentalHygiene_PCTPassing2015',\n",
       " 'DentalHygiene_PCTPassing2014',\n",
       " 'PhysicalTherapistAsst_NumTest2017',\n",
       " 'PhysicalTherapistAsst_PCTPassing2017',\n",
       " 'PhysicalTherapistAsst_PCTPassing2016',\n",
       " 'PhysicalTherapistAsst_PCTPassing2015',\n",
       " 'PhysicalTherapistAsst_PCTPassing2014',\n",
       " 'PracticalNursing_NumTest2017',\n",
       " 'PracticalNursing_PCTPassing2017',\n",
       " 'PracticalNursing_PCTPassing2016',\n",
       " 'PracticalNursing_PCTPassing2015',\n",
       " 'PracticalNursing_PCTPassing2014',\n",
       " 'RegisteredNursing_NumTest2017',\n",
       " 'RegisteredNursing_PCTPassing2017',\n",
       " 'RegisteredNursing_PCTPassing2016',\n",
       " 'RegisteredNursing_PCTPassing2015',\n",
       " 'RegisteredNursing_PCTPassing2014',\n",
       " 'VetMedTech_NumTest2017',\n",
       " 'VetMedTech_PCTPassing2014',\n",
       " 'LowAdultSecEd_Participant_POP_MSG',\n",
       " 'LowAdultSecEd_Participants12+ Hours',\n",
       " 'LowAdultSecEd_Particip/Served',\n",
       " 'LowAdultSecEd_AHSGrad',\n",
       " 'LowAdultSecEd_HSE',\n",
       " 'LowAdultSecEd_Postsecondary',\n",
       " 'LowAdultSecEd_AHSCredits',\n",
       " 'LowAdultSecEd_Posttest',\n",
       " 'LowAdultSecEd_MSG',\n",
       " 'LowBegESL_Participant_POP_MSG',\n",
       " 'LowBegESL_IndividualsServed',\n",
       " 'LowBegESL_Particip/Served',\n",
       " 'LowBegESL_HSE',\n",
       " 'LowBegESL_Postsecondary',\n",
       " 'LowBegESL_MSG',\n",
       " 'LowIntBasicEd_Participant_POP_MSG',\n",
       " 'LowIntBasicEd_IndividualsServed',\n",
       " 'LowIntBasicEd_Particip/Served',\n",
       " 'LowIntBasicEd_AHSGrad',\n",
       " 'LowIntBasicEd_HSE',\n",
       " 'LowIntBasicEd_Postsecondary',\n",
       " 'LowIntBasicEd_Posttest',\n",
       " 'LowIntBasicEd_MSG',\n",
       " 'LowIntESL_Participant_POP_MSG',\n",
       " 'LowIntESL_Particip/Served',\n",
       " 'LowIntESL_HSE',\n",
       " 'LowIntESL_Postsecondary',\n",
       " 'LowIntESL_Posttest',\n",
       " 'Basic_Skills_Progress',\n",
       " 'Credit_English_Success',\n",
       " 'Credit_Math_Success',\n",
       " 'First_Year_Progression',\n",
       " 'Curr_Completion_Rate',\n",
       " 'Licensure_Passing_Rate',\n",
       " 'Transfer_Performance',\n",
       " 'MEEL',\n",
       " 'ACABE',\n",
       " 'ABLBA',\n",
       " 'BBL',\n",
       " 'ENG_PCT_Successful2015',\n",
       " 'ENG_PCT_Successful2014',\n",
       " 'ENG_PCT_Successful2013',\n",
       " 'ENG_PCT_Successful2012',\n",
       " '2015',\n",
       " '% SUCCESSFUL\\r\\n2014 2013',\n",
       " 'Unnamed: 6',\n",
       " '2012',\n",
       " 'English_Students_Age-15',\n",
       " 'English_SuccessPCT_Age-15',\n",
       " 'English_Students_Age16-17',\n",
       " 'English_SuccessPCT_Age16-17',\n",
       " 'English_SuccessPCT_Age18',\n",
       " 'English_SuccessPCT_Age19-24',\n",
       " 'English_Students_Age25-39',\n",
       " 'English_SuccessPCT_Age29-35',\n",
       " 'English_Students_Age40+',\n",
       " 'English_SuccessPCT_Age40+',\n",
       " 'Math_Students_Age-15',\n",
       " 'Math_SuccessPCT_Age-15',\n",
       " 'Math_Students_Age16-17',\n",
       " 'Math_SuccessPCT_Age16-17',\n",
       " 'Math_SuccessPCT_Age18',\n",
       " 'Math_SuccessPCT_Age19-24',\n",
       " 'Math_SuccessPCT_Age29-35',\n",
       " 'Math_SuccessPCT_Age40+',\n",
       " 'Accosiates_Men_Percent',\n",
       " 'Associates_Women_Percent',\n",
       " 'AwardLess1Year_Men_Percent',\n",
       " 'AwardLess1Year_Women_Number',\n",
       " 'AwardLess1Year_Women_Percent',\n",
       " 'AwardLess2Year_Total',\n",
       " 'AwardLess2Year_Men_Percent',\n",
       " 'Certificate_Men_Number',\n",
       " 'Certificate_Men_Percent',\n",
       " 'Financial_Aid_StateLocalGrants',\n",
       " 'StateLocalGrants_Avg',\n",
       " 'Financial_Aid_InstitutionalGrants',\n",
       " 'InstitutionalGrants_Avg',\n",
       " 'Financial_Aid_Loans',\n",
       " 'Loans_Avg',\n",
       " 'Completers_150time_men',\n",
       " 'Completers_150time_women',\n",
       " 'Completers_150time_American Indian or Alaska Native',\n",
       " 'Completers_150time_Asian',\n",
       " 'Completers_150time_Black or African American',\n",
       " 'Completers_150time_Hispanic',\n",
       " 'Completers_150time_Native Hawaiian or Other Pacific Islander',\n",
       " 'Completers_150time_White',\n",
       " 'Completers_150time_Two or more races',\n",
       " 'Completers_150time_Race/ethnicity unknown',\n",
       " 'American Indian or Alaska Native total',\n",
       " 'Asian total',\n",
       " 'Native Hawaiian or Other Pacific Islander total',\n",
       " 'White total',\n",
       " 'Two or more races total',\n",
       " 'Race/ethnicity unknown total',\n",
       " 'Nonresident alien total',\n",
       " 'Full-time retention rate  2016',\n",
       " 'Part-time retention rate  2016',\n",
       " 'WhiteM_PCT086090',\n",
       " 'AsianF_PCT086216',\n",
       " 'AsianF_PCT086219',\n",
       " 'AsianM_PCT086004',\n",
       " 'AsianM_PCT086017',\n",
       " 'AsianM_PCT086090',\n",
       " 'AsianM_PCT086093',\n",
       " 'BlackF_PCT086216',\n",
       " 'BlackM_PCT086090',\n",
       " 'HispanicF_PCT086216',\n",
       " 'HispanicF_PCT086219',\n",
       " 'HispanicM_PCT086090',\n",
       " 'IndianF_PCT086216',\n",
       " 'OtherF_PCT086216',\n",
       " 'OtherF_PCT086219',\n",
       " 'OtherM_PCT086090',\n",
       " 'TotalF_PCT086216',\n",
       " 'TotalM_PCT086090',\n",
       " 'TwoRaceF_PCT086143',\n",
       " 'TwoRaceF_PCT086216',\n",
       " 'TwoRaceF_PCT086219',\n",
       " 'TwoRaceM_PCT086090',\n",
       " 'WhiteF_PCT086216',\n",
       " 'Number of volunteer prepared returns [2]_Number of tax counseling for the elderly (TCE) prepared returns',\n",
       " 'Number of \\r\\nfarm returns']"
      ]
     },
     "execution_count": 222,
     "metadata": {},
     "output_type": "execute_result"
    }
   ],
   "source": [
    "list(NCCCData)"
   ]
  },
  {
   "cell_type": "code",
   "execution_count": 223,
   "metadata": {
    "collapsed": true
   },
   "outputs": [],
   "source": [
    "#Get the median value of each variable in order to create two groups\n",
    "first_median=NCCCData['First_Year_Progression'].median()\n",
    "\n",
    "#create high and low groups for each variable\n",
    "NCCCData['First_Year_Progression_TwoGroups']=np.where(NCCCData['First_Year_Progression']<first_median,\"Low\",\"High\")\n",
    "\n",
    "#get the 33rd and 66th percentiles for each variable\n",
    "first_33=np.percentile(NCCCData['First_Year_Progression'],33)\n",
    "first_66=np.percentile(NCCCData['First_Year_Progression'],66)\n",
    "\n",
    "#split into three groups\n",
    "NCCCData['First_Year_Progression_ThreeGroups']=pd.cut(NCCCData['First_Year_Progression'],[0,first_33,first_66,np.inf],labels=['low','medium','high'])\n"
   ]
  },
  {
   "cell_type": "code",
   "execution_count": 224,
   "metadata": {
    "collapsed": true
   },
   "outputs": [],
   "source": [
    "#Create data frame of target variables\n",
    "\n",
    "target_variables=NCCCData[[\"First_Year_Progression\",\"First_Year_Progression_ThreeGroups\", \"First_Year_Progression_TwoGroups\"]]\n"
   ]
  },
  {
   "cell_type": "code",
   "execution_count": 225,
   "metadata": {},
   "outputs": [],
   "source": [
    "#find all first year success variables\n",
    "delete_list=[]\n",
    "\n",
    "for i in NCCCData.columns:\n",
    "    if \"1stYearSuccess\" in i:\n",
    "        delete_list.append(i)"
   ]
  },
  {
   "cell_type": "code",
   "execution_count": 226,
   "metadata": {},
   "outputs": [],
   "source": [
    "#Remove all the target variables from the data set\n",
    "#the number variables represent the passing rate for first time test takers on state mandated exams\n",
    "delete_list.extend([\"First_Year_Progression\",\"First_Year_Progression_ThreeGroups\", \"First_Year_Progression_TwoGroups\",\"16-17\",\"15-16\",\"13-14\",\"% SUCCESSFUL\\r\\n14-15\",'13-Dec'])\n",
    "targets_dropped=NCCCData.drop(delete_list,axis=1)"
   ]
  },
  {
   "cell_type": "code",
   "execution_count": 227,
   "metadata": {},
   "outputs": [
    {
     "data": {
      "text/plain": [
       "['AdvESL_MeasureableSkills_Participant_POP_MSG',\n",
       " 'AdvESL_MeasureableSkills_ParticipServed',\n",
       " 'AdvESL_MeasureableSkills_AHSGrad',\n",
       " 'AdvESL_MeasureableSkills_HSE',\n",
       " 'AdvESL_MeasureableSkills_Postsecondary\\r\\nEnrollment',\n",
       " 'AdvESL_MeasureableSkills_MSG',\n",
       " 'Beg_ESL_PCTProgress',\n",
       " 'LowBeg_ESL_PCTProgress',\n",
       " 'HighBeg_ESL_PCTProgress',\n",
       " 'LowInt_ESL_PCTProgress',\n",
       " 'HighInt_ESL_PCTProgress',\n",
       " 'Advanced_ESL_PCTProgress',\n",
       " 'Basic_Skills_CompletingLevel\\r\\nLEVEL',\n",
       " 'Basic_Skills_PCTCompleting',\n",
       " 'Beg_ABE_Lit_PCTProgress',\n",
       " 'Beg_BasicEd_PCTProgress',\n",
       " 'LowInt_BasicEd_PCTProgress',\n",
       " 'HighInt_BasicEd_PCTProgress',\n",
       " 'Low_AdultSecondary_Students',\n",
       " 'Low_AdultSecondary_PCTProgress',\n",
       " 'BegABELit_Participant_POP_MSG',\n",
       " 'BegABELit_IndividualsServed',\n",
       " 'BegABELit_Particip/Served',\n",
       " 'BegABELit_POPs',\n",
       " 'BegABELit_AHSGrad',\n",
       " 'BegABELit_HSE',\n",
       " 'BegABELit_Postsecondary',\n",
       " 'BegABELit_Posttest',\n",
       " 'BegABELit_MSG',\n",
       " 'BegBasicEd_Participant_POP_MSG',\n",
       " 'BegBasicEd_Particip/Served',\n",
       " 'BegBasicEd_AHSGrad',\n",
       " 'BegBasicEd_HSE',\n",
       " 'BegBasicEd_Postsecondary',\n",
       " 'BegBasicEd_Posttest',\n",
       " 'BegESLLit_Particip/Served',\n",
       " 'BegESLLit_Postsecondary',\n",
       " 'BegESLLit_Posttest',\n",
       " 'BegESLLit_MSG',\n",
       " 'Transfer30+Hours_PCTGreater2.25',\n",
       " 'TransferAssociateDegree_PCTGreater2.25',\n",
       " 'TransferTotal_PCTGreater2.252016',\n",
       " 'FIT',\n",
       " 'HRD',\n",
       " 'NON_OCC_SS',\n",
       " 'OCC_RB',\n",
       " 'OCC_SS',\n",
       " 'HighAdultSecEd_Participant_POP_MSG',\n",
       " 'HighAdultSecEd_Participants12+ Hours',\n",
       " 'HighAdultSecEd_Particip/Served',\n",
       " 'HighAdultSecEd_AHSGrad',\n",
       " 'HighAdultSecEd_HSE',\n",
       " 'HighAdultSecEd_Postsecondary',\n",
       " 'HighAdultSecEd_Posttest',\n",
       " 'HighAdultSecEd_MSG',\n",
       " 'HighBegESL_Particip/Served',\n",
       " 'HighBegESL_HSE',\n",
       " 'HighBegESL_Postsecondary',\n",
       " 'HighBegESL_Posttest',\n",
       " 'HighBegESL_MSG',\n",
       " 'HighIntBasicEd_Participant_POP_MSG',\n",
       " 'HighIntBasicEd_Particip/Served',\n",
       " 'HighIntBasicEd_POPs',\n",
       " 'HighIntBasicEd_AHSGrad',\n",
       " 'HighIntBasicEd_HSE',\n",
       " 'HighIntBasicEd_Postsecondary',\n",
       " 'HighIntBasicEd_Posttest',\n",
       " 'HighIntBasicEd_MSG',\n",
       " 'HighInt_ESLMeasureableSkills_Participant_POP_MSG',\n",
       " 'HighInt_ESLMeasureableSkills_Particip/Served',\n",
       " 'HighInt_ESLMeasureableSkills_AHSGrad',\n",
       " 'HighInt_ESLMeasureableSkills_HSE',\n",
       " 'HighInt_ESLMeasureableSkills_Postsecondary',\n",
       " 'HighInt_ESLMeasureableSkills_MSG',\n",
       " 'AviationGeneral_NumTest2017',\n",
       " 'AviationGeneral_PCTPassing2017',\n",
       " 'AviationGeneral_PCTPassing2016',\n",
       " 'AviationGeneral_PCTPassing2015',\n",
       " 'AviationAirframe_NumTest2017',\n",
       " 'AviationAirframe_PCTPassing2017',\n",
       " 'AviationAirframe_PCTPassing2016',\n",
       " 'AviationAirframe_PCTPassing2015',\n",
       " 'AviationAirframe_PCTPassing2014',\n",
       " 'AviationPowerPlant_NumTest2017.1',\n",
       " 'AviationPowerPlant_NumTest2016',\n",
       " 'AviationPowerPlant_NumTest2015',\n",
       " 'Massage_NumTest2017',\n",
       " 'Massage_NumTest2017.1',\n",
       " 'Massage_NumTest2016',\n",
       " 'Massage_NumTest2015',\n",
       " 'Massage_NumTest2014',\n",
       " 'NucMedTech_NumTest2017',\n",
       " 'NucMedTech_PCTPassing2016',\n",
       " 'RadiationTherapy_NumTest2017',\n",
       " 'RadiationTherapy_PCTPassing2017',\n",
       " 'RadiationTherapy_PCTPassing2014',\n",
       " 'Radiography_NumTest2017',\n",
       " 'Radiography_PCTPassing2017',\n",
       " 'Radiography_PCTPassing2016',\n",
       " 'Radiography_PCTPassing2015',\n",
       " 'Radiography_PCTPassing2014',\n",
       " 'RealEstateSales_NumTest2017',\n",
       " 'RealEstateSales_PCTPassing2017',\n",
       " 'RealEstateSales_PCTPassing2016',\n",
       " 'RealEstateSales_PCTPassing2015',\n",
       " 'RealEstateSales_PCTPassing2014',\n",
       " 'CosmeticApprentice_NumTest2017',\n",
       " 'CosmeticApprentice_PCTPassing2017',\n",
       " 'CosmeticApprentice_PCTPassing2016',\n",
       " 'CosmeticApprentice_PCTPassing2015',\n",
       " 'CosmeticApprentice_PCTPassing2014',\n",
       " 'Cosmetology_NumTest2017',\n",
       " 'Cosmetology_PCTPassing2017',\n",
       " 'Cosmetology_PCTPassing2016',\n",
       " 'Cosmetology_PCTPassing2015',\n",
       " 'Cosmetology_PCTPassing2014',\n",
       " 'Esthetician_NumTest2017',\n",
       " 'Esthetician_PCTPassing2017',\n",
       " 'Esthetician_PCTPassing2016',\n",
       " 'Esthetician_PCTPassing2015',\n",
       " 'Esthetician_PCTPassing2014',\n",
       " 'CosmeticInstructor_NumTest2017',\n",
       " 'Manicurist_NumTest2017',\n",
       " 'Manicurist_PCTPassing2017',\n",
       " 'Manicurist_PCTPassing2016',\n",
       " 'Manicurist_PCTPassing2015',\n",
       " 'Manicurist_PCTPassing2014',\n",
       " 'Blet_NumTest2017',\n",
       " 'Blet_PCTPassing2017',\n",
       " 'Blet_PCTPassing2016',\n",
       " 'Blet_PCTPassing2015',\n",
       " 'Blet_PCTPassing2014',\n",
       " 'DetentionOfficer_NumTest2017',\n",
       " 'DetentionOfficer_PCTPassing2017',\n",
       " 'DetentionOfficer_PCTPassing2016',\n",
       " 'DetentionOfficer_PCTPassing2015',\n",
       " 'DetentionOfficer_PCTPassing2014',\n",
       " 'EMTBasic_NumTest2017',\n",
       " 'EMTBasic_PCTPassing2017',\n",
       " 'EMTBasic_PCTPassing2016',\n",
       " 'EMTBasic_PCTPassing2015',\n",
       " 'EMTBasic_PCTPassing2014',\n",
       " 'EMTIntermediate_NumTest2017',\n",
       " 'EMTIntermediate_PCTPassing2017',\n",
       " 'EMTIntermediate_PCTPassing2016',\n",
       " 'EMTIntermediate_PCTPassing2015',\n",
       " 'EMTIntermediate_PCTPassing2014',\n",
       " 'EMTParamedic_NumTest2017',\n",
       " 'EMTParamedic_PCTPassing2017',\n",
       " 'EMTParamedic_PCTPassing2016',\n",
       " 'EMTParamedic_PCTPassing2015',\n",
       " 'EMTParamedic_PCTPassing2014',\n",
       " 'DentalHygiene_NumTest2017',\n",
       " 'DentalHygiene_PCTPassing2017',\n",
       " 'DentalHygiene_PCTPassing2016',\n",
       " 'DentalHygiene_PCTPassing2015',\n",
       " 'DentalHygiene_PCTPassing2014',\n",
       " 'PhysicalTherapistAsst_NumTest2017',\n",
       " 'PhysicalTherapistAsst_PCTPassing2017',\n",
       " 'PhysicalTherapistAsst_PCTPassing2016',\n",
       " 'PhysicalTherapistAsst_PCTPassing2015',\n",
       " 'PhysicalTherapistAsst_PCTPassing2014',\n",
       " 'PracticalNursing_NumTest2017',\n",
       " 'PracticalNursing_PCTPassing2017',\n",
       " 'PracticalNursing_PCTPassing2016',\n",
       " 'PracticalNursing_PCTPassing2015',\n",
       " 'PracticalNursing_PCTPassing2014',\n",
       " 'RegisteredNursing_NumTest2017',\n",
       " 'RegisteredNursing_PCTPassing2017',\n",
       " 'RegisteredNursing_PCTPassing2016',\n",
       " 'RegisteredNursing_PCTPassing2015',\n",
       " 'RegisteredNursing_PCTPassing2014',\n",
       " 'VetMedTech_NumTest2017',\n",
       " 'VetMedTech_PCTPassing2014',\n",
       " 'LowAdultSecEd_Participant_POP_MSG',\n",
       " 'LowAdultSecEd_Participants12+ Hours',\n",
       " 'LowAdultSecEd_Particip/Served',\n",
       " 'LowAdultSecEd_AHSGrad',\n",
       " 'LowAdultSecEd_HSE',\n",
       " 'LowAdultSecEd_Postsecondary',\n",
       " 'LowAdultSecEd_AHSCredits',\n",
       " 'LowAdultSecEd_Posttest',\n",
       " 'LowAdultSecEd_MSG',\n",
       " 'LowBegESL_Participant_POP_MSG',\n",
       " 'LowBegESL_IndividualsServed',\n",
       " 'LowBegESL_Particip/Served',\n",
       " 'LowBegESL_HSE',\n",
       " 'LowBegESL_Postsecondary',\n",
       " 'LowBegESL_MSG',\n",
       " 'LowIntBasicEd_Participant_POP_MSG',\n",
       " 'LowIntBasicEd_IndividualsServed',\n",
       " 'LowIntBasicEd_Particip/Served',\n",
       " 'LowIntBasicEd_AHSGrad',\n",
       " 'LowIntBasicEd_HSE',\n",
       " 'LowIntBasicEd_Postsecondary',\n",
       " 'LowIntBasicEd_Posttest',\n",
       " 'LowIntBasicEd_MSG',\n",
       " 'LowIntESL_Participant_POP_MSG',\n",
       " 'LowIntESL_Particip/Served',\n",
       " 'LowIntESL_HSE',\n",
       " 'LowIntESL_Postsecondary',\n",
       " 'LowIntESL_Posttest',\n",
       " 'Basic_Skills_Progress',\n",
       " 'Credit_English_Success',\n",
       " 'Credit_Math_Success',\n",
       " 'Curr_Completion_Rate',\n",
       " 'Licensure_Passing_Rate',\n",
       " 'Transfer_Performance',\n",
       " 'MEEL',\n",
       " 'ACABE',\n",
       " 'ABLBA',\n",
       " 'BBL',\n",
       " 'ENG_PCT_Successful2015',\n",
       " 'ENG_PCT_Successful2014',\n",
       " 'ENG_PCT_Successful2013',\n",
       " 'ENG_PCT_Successful2012',\n",
       " '2015',\n",
       " '% SUCCESSFUL\\r\\n2014 2013',\n",
       " 'Unnamed: 6',\n",
       " '2012',\n",
       " 'English_Students_Age-15',\n",
       " 'English_SuccessPCT_Age-15',\n",
       " 'English_Students_Age16-17',\n",
       " 'English_SuccessPCT_Age16-17',\n",
       " 'English_SuccessPCT_Age18',\n",
       " 'English_SuccessPCT_Age19-24',\n",
       " 'English_Students_Age25-39',\n",
       " 'English_SuccessPCT_Age29-35',\n",
       " 'English_Students_Age40+',\n",
       " 'English_SuccessPCT_Age40+',\n",
       " 'Math_Students_Age-15',\n",
       " 'Math_SuccessPCT_Age-15',\n",
       " 'Math_Students_Age16-17',\n",
       " 'Math_SuccessPCT_Age16-17',\n",
       " 'Math_SuccessPCT_Age18',\n",
       " 'Math_SuccessPCT_Age19-24',\n",
       " 'Math_SuccessPCT_Age29-35',\n",
       " 'Math_SuccessPCT_Age40+',\n",
       " 'Accosiates_Men_Percent',\n",
       " 'Associates_Women_Percent',\n",
       " 'AwardLess1Year_Men_Percent',\n",
       " 'AwardLess1Year_Women_Number',\n",
       " 'AwardLess1Year_Women_Percent',\n",
       " 'AwardLess2Year_Total',\n",
       " 'AwardLess2Year_Men_Percent',\n",
       " 'Certificate_Men_Number',\n",
       " 'Certificate_Men_Percent',\n",
       " 'Financial_Aid_StateLocalGrants',\n",
       " 'StateLocalGrants_Avg',\n",
       " 'Financial_Aid_InstitutionalGrants',\n",
       " 'InstitutionalGrants_Avg',\n",
       " 'Financial_Aid_Loans',\n",
       " 'Loans_Avg',\n",
       " 'Completers_150time_men',\n",
       " 'Completers_150time_women',\n",
       " 'Completers_150time_American Indian or Alaska Native',\n",
       " 'Completers_150time_Asian',\n",
       " 'Completers_150time_Black or African American',\n",
       " 'Completers_150time_Hispanic',\n",
       " 'Completers_150time_Native Hawaiian or Other Pacific Islander',\n",
       " 'Completers_150time_White',\n",
       " 'Completers_150time_Two or more races',\n",
       " 'Completers_150time_Race/ethnicity unknown',\n",
       " 'American Indian or Alaska Native total',\n",
       " 'Asian total',\n",
       " 'Native Hawaiian or Other Pacific Islander total',\n",
       " 'White total',\n",
       " 'Two or more races total',\n",
       " 'Race/ethnicity unknown total',\n",
       " 'Nonresident alien total',\n",
       " 'Full-time retention rate  2016',\n",
       " 'Part-time retention rate  2016',\n",
       " 'WhiteM_PCT086090',\n",
       " 'AsianF_PCT086216',\n",
       " 'AsianF_PCT086219',\n",
       " 'AsianM_PCT086004',\n",
       " 'AsianM_PCT086017',\n",
       " 'AsianM_PCT086090',\n",
       " 'AsianM_PCT086093',\n",
       " 'BlackF_PCT086216',\n",
       " 'BlackM_PCT086090',\n",
       " 'HispanicF_PCT086216',\n",
       " 'HispanicF_PCT086219',\n",
       " 'HispanicM_PCT086090',\n",
       " 'IndianF_PCT086216',\n",
       " 'OtherF_PCT086216',\n",
       " 'OtherF_PCT086219',\n",
       " 'OtherM_PCT086090',\n",
       " 'TotalF_PCT086216',\n",
       " 'TotalM_PCT086090',\n",
       " 'TwoRaceF_PCT086143',\n",
       " 'TwoRaceF_PCT086216',\n",
       " 'TwoRaceF_PCT086219',\n",
       " 'TwoRaceM_PCT086090',\n",
       " 'WhiteF_PCT086216',\n",
       " 'Number of volunteer prepared returns [2]_Number of tax counseling for the elderly (TCE) prepared returns',\n",
       " 'Number of \\r\\nfarm returns']"
      ]
     },
     "execution_count": 227,
     "metadata": {},
     "output_type": "execute_result"
    }
   ],
   "source": [
    "#check that columns where dropped\n",
    "list(targets_dropped)"
   ]
  },
  {
   "cell_type": "code",
   "execution_count": 297,
   "metadata": {},
   "outputs": [
    {
     "name": "stdout",
     "output_type": "stream",
     "text": [
      "  First_Year_Progression_TwoGroups  First_Year_Progression\n",
      "0                             High                0.754631\n",
      "1                              Low                0.653259\n",
      "  First_Year_Progression_TwoGroups  First_Year_Progression\n",
      "0                             High                      32\n",
      "1                              Low                      27\n"
     ]
    }
   ],
   "source": [
    "#basic statistics of the high and low groups\n",
    "mean=pd.DataFrame(NCCCData.groupby(\"First_Year_Progression_TwoGroups\",as_index=False)['First_Year_Progression'].mean())\n",
    "median=pd.DataFrame(NCCCData.groupby(\"First_Year_Progression_TwoGroups\",as_index=False)['First_Year_Progression'].median())\n",
    "count=pd.DataFrame(NCCCData.groupby(\"First_Year_Progression_TwoGroups\",as_index=False)['First_Year_Progression'].count())\n",
    "print(mean)\n",
    "print(count)\n",
    "#%matplotlib inline\n",
    "\n",
    "#Plot the model's feature importances\n",
    "# REFERENCE:  Eric Larson, https://github.com/eclarson/DataMiningNotebooks\n",
    "#plt.style.use('ggplot')\n",
    "\n",
    "#weights = pd.Series(mean[\"First_Year_Progression\"].values,index=mean[\"First_Year_Progression_TwoGroups\"])\n",
    "#mean_plot = weights.plot(kind='bar', figsize=(20,8))\n",
    "\n",
    "#mean_plot.set_title(\"Mean First Year Progression Rate by Group\")\n",
    "#mean_plot.set_ylabel(\"\")\n",
    "#mean_plot.set_xlabel(\"Group\")\n",
    "#ax.show()"
   ]
  },
  {
   "cell_type": "code",
   "execution_count": null,
   "metadata": {
    "collapsed": true
   },
   "outputs": [],
   "source": []
  },
  {
   "cell_type": "code",
   "execution_count": 229,
   "metadata": {},
   "outputs": [
    {
     "name": "stdout",
     "output_type": "stream",
     "text": [
      "The train data set shape is:  (44, 297)\n",
      "The test data set shape is:  (15, 297)\n"
     ]
    }
   ],
   "source": [
    "#Split into train and test data\n",
    "#Chose 75/25 train/test split\n",
    "x_train, x_test, y_train, y_test=train_test_split(targets_dropped,target_variables,test_size=0.25, random_state=0)\n",
    "\n",
    "print(\"The train data set shape is: \",x_train.shape)\n",
    "print(\"The test data set shape is: \",x_test.shape)"
   ]
  },
  {
   "cell_type": "code",
   "execution_count": 230,
   "metadata": {},
   "outputs": [
    {
     "name": "stdout",
     "output_type": "stream",
     "text": [
      "Fitting 10 folds for each of 44 candidates, totalling 440 fits\n"
     ]
    },
    {
     "name": "stderr",
     "output_type": "stream",
     "text": [
      "[Parallel(n_jobs=8)]: Done  34 tasks      | elapsed:  2.2min\n",
      "[Parallel(n_jobs=8)]: Done 184 tasks      | elapsed:  2.3min\n",
      "[Parallel(n_jobs=8)]: Done 425 out of 440 | elapsed:  2.4min remaining:    5.1s\n",
      "[Parallel(n_jobs=8)]: Done 440 out of 440 | elapsed:  2.4min finished\n"
     ]
    },
    {
     "data": {
      "text/plain": [
       "GridSearchCV(cv=ShuffleSplit(n_splits=10, random_state=0, test_size=0.2, train_size=None),\n",
       "       error_score='raise',\n",
       "       estimator=RandomForestClassifier(bootstrap=True, class_weight=None, criterion='gini',\n",
       "            max_depth=None, max_features='auto', max_leaf_nodes=None,\n",
       "            min_impurity_decrease=0.0, min_impurity_split=None,\n",
       "            min_samples_leaf=1, min_samples_split=2,\n",
       "            min_weight_fraction_leaf=0.0, n_estimators=10, n_jobs=1,\n",
       "            oob_score=False, random_state=None, verbose=0,\n",
       "            warm_start=False),\n",
       "       fit_params=None, iid=True, n_jobs=8,\n",
       "       param_grid={'n_estimators': [1, 5, 10, 15, 20, 25, 30, 35, 40, 45, 50], 'criterion': ['gini', 'entropy'], 'bootstrap': [True, False]},\n",
       "       pre_dispatch='2*n_jobs', refit=True, return_train_score='warn',\n",
       "       scoring='accuracy', verbose=1)"
      ]
     },
     "execution_count": 230,
     "metadata": {},
     "output_type": "execute_result"
    }
   ],
   "source": [
    "#random forest grid search\n",
    "\n",
    "parameters = { 'n_estimators': [1,5,10,15,20,25,30,35,40,45,50]\n",
    "              ,'criterion': ['gini','entropy']\n",
    "              ,'bootstrap': [True,False]\n",
    "              }\n",
    "\n",
    "rf_grid = GridSearchCV(estimator=RandomForestClassifier()\n",
    "                   , n_jobs=8 # jobs to run in parallel\n",
    "                   , verbose=1 # low verbosity\n",
    "                   , param_grid=parameters\n",
    "                   , cv=cv # KFolds = 10\n",
    "                   , scoring='accuracy')\n",
    "\n",
    "#Perform hyperparameter search to find the best combination of parameters for our data\n",
    "rf_grid.fit(x_train, y_train[\"First_Year_Progression_TwoGroups\"])"
   ]
  },
  {
   "cell_type": "code",
   "execution_count": 231,
   "metadata": {},
   "outputs": [
    {
     "name": "stdout",
     "output_type": "stream",
     "text": [
      "The mean accuracy on test data for random forest grid search is:  0.533333333333\n"
     ]
    }
   ],
   "source": [
    "#Use the best parameters for our model\n",
    "rf_grid = rf_grid.best_estimator_\n",
    "\n",
    "print(\"The mean accuracy on test data for random forest grid search is: \", rf_grid.score(x_test, y_test[\"First_Year_Progression_TwoGroups\"]))"
   ]
  },
  {
   "cell_type": "code",
   "execution_count": 232,
   "metadata": {},
   "outputs": [
    {
     "name": "stdout",
     "output_type": "stream",
     "text": [
      "The mean accuracy on test data for rf grid search boosted is:  0.533333333333\n"
     ]
    }
   ],
   "source": [
    "#Ada boosted random forest grid search model\n",
    "rf_grid_boosted = AdaBoostClassifier(base_estimator=rf_grid)\n",
    "rf_grid_boosted.fit(x_train, y_train[\"First_Year_Progression_TwoGroups\"])\n",
    "print(\"The mean accuracy on test data for rf grid search boosted is: \", rf_grid_boosted.score(x_test, y_test[\"First_Year_Progression_TwoGroups\"]))"
   ]
  },
  {
   "cell_type": "code",
   "execution_count": 233,
   "metadata": {},
   "outputs": [],
   "source": [
    "#Random forest grid search only using top 10 features\n",
    "#get top 10 features\n",
    "top_10_names=rfgrid_ft_imp_df[0:10][\"feature_names\"]\n",
    "\n",
    "x_train_reduced = x_train[top_10_names]\n",
    "x_test_reduced = x_test[top_10_names]\n"
   ]
  },
  {
   "cell_type": "code",
   "execution_count": 234,
   "metadata": {},
   "outputs": [
    {
     "name": "stdout",
     "output_type": "stream",
     "text": [
      "Fitting 10 folds for each of 44 candidates, totalling 440 fits\n"
     ]
    },
    {
     "name": "stderr",
     "output_type": "stream",
     "text": [
      "[Parallel(n_jobs=8)]: Done  34 tasks      | elapsed:  1.7min\n",
      "[Parallel(n_jobs=8)]: Done 184 tasks      | elapsed:  1.8min\n",
      "[Parallel(n_jobs=8)]: Done 440 out of 440 | elapsed:  1.9min finished\n"
     ]
    },
    {
     "data": {
      "text/plain": [
       "GridSearchCV(cv=ShuffleSplit(n_splits=10, random_state=0, test_size=0.2, train_size=None),\n",
       "       error_score='raise',\n",
       "       estimator=RandomForestClassifier(bootstrap=True, class_weight=None, criterion='gini',\n",
       "            max_depth=None, max_features='auto', max_leaf_nodes=None,\n",
       "            min_impurity_decrease=0.0, min_impurity_split=None,\n",
       "            min_samples_leaf=1, min_samples_split=2,\n",
       "            min_weight_fraction_leaf=0.0, n_estimators=10, n_jobs=1,\n",
       "            oob_score=False, random_state=None, verbose=0,\n",
       "            warm_start=False),\n",
       "       fit_params=None, iid=True, n_jobs=8,\n",
       "       param_grid={'n_estimators': [1, 5, 10, 15, 20, 25, 30, 35, 40, 45, 50], 'criterion': ['gini', 'entropy'], 'bootstrap': [True, False]},\n",
       "       pre_dispatch='2*n_jobs', refit=True, return_train_score='warn',\n",
       "       scoring='accuracy', verbose=1)"
      ]
     },
     "execution_count": 234,
     "metadata": {},
     "output_type": "execute_result"
    }
   ],
   "source": [
    "#Random forest grid search only using top 10 features\n",
    "#get top 10 features\n",
    "\n",
    "parameters = { 'n_estimators': [1,5,10,15,20,25,30,35,40,45,50]\n",
    "              ,'criterion': ['gini','entropy']\n",
    "              ,'bootstrap': [True,False]\n",
    "              }\n",
    "\n",
    "rf_grid_reduced= GridSearchCV(estimator=RandomForestClassifier()\n",
    "                   , n_jobs=8 # jobs to run in parallel\n",
    "                   , verbose=1 # low verbosity\n",
    "                   , param_grid=parameters\n",
    "                   , cv=cv # KFolds = 10\n",
    "                   , scoring='accuracy')\n",
    "\n",
    "#Perform hyperparameter search to find the best combination of parameters for our data\n",
    "rf_grid_reduced.fit(x_train_reduced, y_train[\"First_Year_Progression_TwoGroups\"])"
   ]
  },
  {
   "cell_type": "code",
   "execution_count": 235,
   "metadata": {},
   "outputs": [
    {
     "name": "stdout",
     "output_type": "stream",
     "text": [
      "The mean accuracy on test data rf grid search reduced is:  0.733333333333\n"
     ]
    }
   ],
   "source": [
    "#Use the best parameters for our model\n",
    "rf_grid_reduced = rf_grid_reduced.best_estimator_\n",
    "\n",
    "print(\"The mean accuracy on test data rf grid search reduced is: \", rf_grid_reduced.score(x_test_reduced, y_test[\"First_Year_Progression_TwoGroups\"]))"
   ]
  },
  {
   "cell_type": "code",
   "execution_count": 236,
   "metadata": {},
   "outputs": [
    {
     "name": "stdout",
     "output_type": "stream",
     "text": [
      "The mean accuracy on test data rf grid search reduced boosted is:  0.8\n"
     ]
    }
   ],
   "source": [
    "#Random forest grid search boosted model with reduced varaibles\n",
    "rf_grid_reduced_boosted = AdaBoostClassifier(base_estimator=rf_grid_reduced)\n",
    "rf_grid_reduced_boosted.fit(x_train_reduced, y_train[\"First_Year_Progression_TwoGroups\"])\n",
    "print(\"The mean accuracy on test data rf grid search reduced boosted is: \", rf_grid_reduced_boosted.score(x_test_reduced, y_test[\"First_Year_Progression_TwoGroups\"]))"
   ]
  },
  {
   "cell_type": "code",
   "execution_count": 237,
   "metadata": {},
   "outputs": [
    {
     "name": "stdout",
     "output_type": "stream",
     "text": [
      "In this PCA model, 95% of the variance amounts to 4 principal components.\n",
      "Fitting 10 folds for each of 44 candidates, totalling 440 fits\n"
     ]
    },
    {
     "name": "stderr",
     "output_type": "stream",
     "text": [
      "[Parallel(n_jobs=8)]: Done  34 tasks      | elapsed:  1.7min\n",
      "[Parallel(n_jobs=8)]: Done 184 tasks      | elapsed:  1.8min\n",
      "[Parallel(n_jobs=8)]: Done 440 out of 440 | elapsed:  1.9min finished\n"
     ]
    },
    {
     "data": {
      "text/plain": [
       "GridSearchCV(cv=ShuffleSplit(n_splits=10, random_state=0, test_size=0.2, train_size=None),\n",
       "       error_score='raise',\n",
       "       estimator=RandomForestClassifier(bootstrap=True, class_weight=None, criterion='gini',\n",
       "            max_depth=None, max_features='auto', max_leaf_nodes=None,\n",
       "            min_impurity_decrease=0.0, min_impurity_split=None,\n",
       "            min_samples_leaf=1, min_samples_split=2,\n",
       "            min_weight_fraction_leaf=0.0, n_estimators=10, n_jobs=1,\n",
       "            oob_score=False, random_state=None, verbose=0,\n",
       "            warm_start=False),\n",
       "       fit_params=None, iid=True, n_jobs=8,\n",
       "       param_grid={'n_estimators': [1, 5, 10, 15, 20, 25, 30, 35, 40, 45, 50], 'criterion': ['gini', 'entropy'], 'bootstrap': [True, False]},\n",
       "       pre_dispatch='2*n_jobs', refit=True, return_train_score='warn',\n",
       "       scoring='accuracy', verbose=1)"
      ]
     },
     "execution_count": 237,
     "metadata": {},
     "output_type": "execute_result"
    }
   ],
   "source": [
    "#random forest grid search pca\n",
    "pca = PCA(.95)\n",
    "\n",
    "pca.fit(x_train)\n",
    "pca.n_components_\n",
    "\n",
    "print(\"In this PCA model, 95% of the variance amounts to\", pca.n_components_, \"principal components.\")\n",
    "\n",
    "#create model\n",
    "x_train_pca = pca.transform(x_train)\n",
    "x_test_pca = pca.transform(x_test)\n",
    "\n",
    "\n",
    "parameters = { 'n_estimators': [1,5,10,15,20,25,30,35,40,45,50]\n",
    "              ,'criterion': ['gini','entropy']\n",
    "              ,'bootstrap': [True,False]\n",
    "              }\n",
    "\n",
    "rf_grid_pca = GridSearchCV(estimator=RandomForestClassifier()\n",
    "                   , n_jobs=8 # jobs to run in parallel\n",
    "                   , verbose=1 # low verbosity\n",
    "                   , param_grid=parameters\n",
    "                   , cv=cv # KFolds = 10\n",
    "                   , scoring='accuracy')\n",
    "\n",
    "#Perform hyperparameter search to find the best combination of parameters for our data\n",
    "rf_grid_pca.fit(x_train_pca, y_train[\"First_Year_Progression_TwoGroups\"])"
   ]
  },
  {
   "cell_type": "code",
   "execution_count": 238,
   "metadata": {},
   "outputs": [
    {
     "name": "stdout",
     "output_type": "stream",
     "text": [
      "The mean accuracy on test data rf grid search pca is:  0.533333333333\n"
     ]
    }
   ],
   "source": [
    "#Use the best parameters for our model\n",
    "rf_grid_pca = rf_grid_pca.best_estimator_\n",
    "rf_grid_pca.fit(x_train_pca,y_train[\"First_Year_Progression_TwoGroups\"])\n",
    "\n",
    "print(\"The mean accuracy on test data rf grid search pca is: \", rf_grid_pca.score(x_test_pca, y_test[\"First_Year_Progression_TwoGroups\"]))"
   ]
  },
  {
   "cell_type": "code",
   "execution_count": 239,
   "metadata": {},
   "outputs": [
    {
     "name": "stdout",
     "output_type": "stream",
     "text": [
      "The mean accuracy on test data rf grid search pca boosted is:  0.533333333333\n"
     ]
    }
   ],
   "source": [
    "#rf grid search pca boosted\n",
    "rf_grid_pca_boosted = AdaBoostClassifier(base_estimator=rf_grid_pca)\n",
    "rf_grid_pca_boosted.fit(x_train_pca, y_train[\"First_Year_Progression_TwoGroups\"])\n",
    "print(\"The mean accuracy on test data rf grid search pca boosted is: \", rf_grid_pca_boosted.score(x_test_pca, y_test[\"First_Year_Progression_TwoGroups\"]))"
   ]
  },
  {
   "cell_type": "code",
   "execution_count": 240,
   "metadata": {},
   "outputs": [
    {
     "name": "stdout",
     "output_type": "stream",
     "text": [
      "In this PCA model, 95% of the variance amounts to 2 principal components.\n",
      "Fitting 10 folds for each of 44 candidates, totalling 440 fits\n"
     ]
    },
    {
     "name": "stderr",
     "output_type": "stream",
     "text": [
      "[Parallel(n_jobs=8)]: Done  34 tasks      | elapsed:  1.7min\n",
      "[Parallel(n_jobs=8)]: Done 184 tasks      | elapsed:  1.8min\n",
      "[Parallel(n_jobs=8)]: Done 440 out of 440 | elapsed:  1.9min finished\n"
     ]
    }
   ],
   "source": [
    "#rf grid search reduced pca\n",
    "pca = PCA(.95)\n",
    "\n",
    "pca.fit(x_train_reduced)\n",
    "pca.n_components_\n",
    "\n",
    "print(\"In this PCA model, 95% of the variance amounts to\", pca.n_components_, \"principal components.\")\n",
    "\n",
    "#create model\n",
    "x_train_pca_reduced = pca.transform(x_train_reduced)\n",
    "x_test_pca_reduced = pca.transform(x_test_reduced)\n",
    "\n",
    "\n",
    "parameters = { 'n_estimators': [1,5,10,15,20,25,30,35,40,45,50]\n",
    "              ,'criterion': ['gini','entropy']\n",
    "              ,'bootstrap': [True,False]\n",
    "              }\n",
    "\n",
    "rf_grid_pca_reduced = GridSearchCV(estimator=RandomForestClassifier()\n",
    "                   , n_jobs=8 # jobs to run in parallel\n",
    "                   , verbose=1 # low verbosity\n",
    "                   , param_grid=parameters\n",
    "                   , cv=cv # KFolds = 10\n",
    "                   , scoring='accuracy')\n",
    "\n",
    "#Perform hyperparameter search to find the best combination of parameters for our data\n",
    "rf_grid_pca_reduced.fit(x_train_pca_reduced, y_train[\"First_Year_Progression_TwoGroups\"])\n",
    "rf_grid_pca_reduced = rf_grid_pca_reduced.best_estimator_"
   ]
  },
  {
   "cell_type": "code",
   "execution_count": 241,
   "metadata": {},
   "outputs": [
    {
     "name": "stdout",
     "output_type": "stream",
     "text": [
      "The mean accuracy on test data rf grid search reduced pca is:  0.533333333333\n"
     ]
    }
   ],
   "source": [
    "#Use the best parameters for our model\n",
    "rf_grid_pca_reduced.fit(x_train_pca_reduced,y_train[\"First_Year_Progression_TwoGroups\"])\n",
    "\n",
    "print(\"The mean accuracy on test data rf grid search reduced pca is: \", rf_grid_pca_reduced.score(x_test_pca_reduced, y_test[\"First_Year_Progression_TwoGroups\"]))"
   ]
  },
  {
   "cell_type": "code",
   "execution_count": 242,
   "metadata": {},
   "outputs": [
    {
     "name": "stdout",
     "output_type": "stream",
     "text": [
      "The mean accuracy on test data rf grid search pca boosted is:  0.6\n"
     ]
    }
   ],
   "source": [
    "#rf grid serach reduced pca boosted\n",
    "rf_grid_pca_reduced_boosted = AdaBoostClassifier(base_estimator=rf_grid_pca_reduced)\n",
    "rf_grid_pca_reduced_boosted.fit(x_train_pca_reduced, y_train[\"First_Year_Progression_TwoGroups\"])\n",
    "print(\"The mean accuracy on test data rf grid search pca boosted is: \", rf_grid_pca_reduced_boosted.score(x_test_pca_reduced, y_test[\"First_Year_Progression_TwoGroups\"]))"
   ]
  },
  {
   "cell_type": "code",
   "execution_count": 243,
   "metadata": {},
   "outputs": [
    {
     "data": {
      "image/png": "[encoded data removed]",
      "text/plain": [
       "<matplotlib.figure.Figure at 0xebccc71438>"
      ]
     },
     "metadata": {},
     "output_type": "display_data"
    }
   ],
   "source": [
    "#graph every model's accuracy\n",
    "rf_grid_acc=rf_grid.score(x_test, y_test[\"First_Year_Progression_TwoGroups\"])\n",
    "\n",
    "rf_grid_boosted_acc=rf_grid_boosted.score(x_test, y_test[\"First_Year_Progression_TwoGroups\"])\n",
    "\n",
    "rf_grid_reduced_acc=rf_grid_reduced.score(x_test_reduced, y_test[\"First_Year_Progression_TwoGroups\"])\n",
    "\n",
    "rf_grid_reduced_boosted_acc=rf_grid_reduced_boosted.score(x_test_reduced, y_test[\"First_Year_Progression_TwoGroups\"])\n",
    "\n",
    "rf_grid_pca_acc=rf_grid_pca.score(x_test_pca, y_test[\"First_Year_Progression_TwoGroups\"])\n",
    "\n",
    "rf_grid_pca_reduced_acc=rf_grid_pca_reduced.score(x_test_pca_reduced, y_test[\"First_Year_Progression_TwoGroups\"])\n",
    "\n",
    "rf_grid_pca_reduced_boosted_acc=rf_grid_pca_reduced_boosted.score(x_test_pca_reduced, y_test[\"First_Year_Progression_TwoGroups\"])\n",
    "\n",
    "\n",
    "scores=pd.DataFrame({\"Model\":[\"rf_grid\",\"rf_grid_boosted\",\"rf_grid_reduced\",\"rf_grid_reduced_boosted\",\"rf_grid_pca\",\"rf_grid_pca_reduced\",\"rf_grid_pca_reduced_boosted\"]\n",
    "                     ,\"Accuracy\":[rf_grid_acc,rf_grid_boosted_acc,rf_grid_reduced_acc,rf_grid_reduced_boosted_acc,rf_grid_pca_acc,rf_grid_pca_reduced_acc,rf_grid_pca_reduced_boosted_acc]})\n",
    "\n",
    "scores.sort_values(by='Accuracy', inplace=True, ascending=False )\n",
    "\n",
    "#print(scores)\n",
    "\n",
    "%matplotlib inline\n",
    "\n",
    "#Plot the model's feature importances\n",
    "# REFERENCE:  Eric Larson, https://github.com/eclarson/DataMiningNotebooks\n",
    "plt.style.use('ggplot')\n",
    "\n",
    "weights = pd.Series(scores[\"Accuracy\"].values,index=scores[\"Model\"])\n",
    "ax = weights.plot(kind='bar', figsize=(20,8))\n",
    "\n",
    "ax.set_title(\"Accuracy By Model\")\n",
    "ax.set_ylabel(\"Mean Accuracy\")\n",
    "ax.set_xlabel(\"Model\")\n",
    "plt.show()"
   ]
  },
  {
   "cell_type": "code",
   "execution_count": 279,
   "metadata": {},
   "outputs": [
    {
     "data": {
      "image/png": "[encoded data removed]",
      "text/plain": [
       "<matplotlib.figure.Figure at 0xebccc88d30>"
      ]
     },
     "metadata": {},
     "output_type": "display_data"
    }
   ],
   "source": [
    "#Load the model's coefficient weights and feature names into a dataframe sorted by weights\n",
    "weights = rf_grid_reduced_boosted.feature_importances_\n",
    "feature_names = x_train_reduced.columns.values\n",
    "ft_imp_df = pd.DataFrame({'feature_names':feature_names, 'weights':weights, 'absolute_weights': np.abs(weights)})\n",
    "ft_imp_df.sort_values(by='absolute_weights', inplace=True, ascending=False )\n",
    "\n",
    "# Examine categorical variables of interest  \n",
    "import matplotlib.pyplot as plt\n",
    "%matplotlib inline\n",
    "\n",
    "#Plot the model's feature importances\n",
    "# REFERENCE:  Eric Larson, https://github.com/eclarson/DataMiningNotebooks\n",
    "plt.style.use('ggplot')\n",
    "\n",
    "wt_plt_df = ft_imp_df.head(75)\n",
    "\n",
    "weights = pd.Series(wt_plt_df['weights'].values,index=wt_plt_df['feature_names'])\n",
    "ax = weights.plot(kind='bar', figsize=(20,8))\n",
    "\n",
    "ax.set_title(\"Top Features by Absolute Weight For Random Forest Reduced Boosted Model\")\n",
    "ax.set_ylabel(\"Coefficient Magnitude\\n(z-score)\")\n",
    "ax.set_xlabel(\"Feature Names\")\n",
    "plt.show()"
   ]
  },
  {
   "cell_type": "code",
   "execution_count": 400,
   "metadata": {},
   "outputs": [],
   "source": [
    "stats=ft_imp_df[\"feature_names\"].append(pd.Series(\"First_Year_Progression_TwoGroups\"))\n",
    "full_data_reduced=NCCCData[stats]\n",
    "stats_df=pd.DataFrame(full_data_reduced.groupby(\"First_Year_Progression_TwoGroups\",as_index=False).mean())\n",
    "stats_df=stats_df.transpose()\n",
    "stats_df.index.values[0]=\"Variable\"\n",
    "stats_df.columns=stats_df.iloc[0]\n",
    "stats_df=stats_df.iloc[1:]"
   ]
  },
  {
   "cell_type": "code",
   "execution_count": 401,
   "metadata": {},
   "outputs": [
    {
     "data": {
      "text/html": [
       "<div>\n",
       "<style>\n",
       "    .dataframe thead tr:only-child th {\n",
       "        text-align: right;\n",
       "    }\n",
       "\n",
       "    .dataframe thead th {\n",
       "        text-align: left;\n",
       "    }\n",
       "\n",
       "    .dataframe tbody tr th {\n",
       "        vertical-align: top;\n",
       "    }\n",
       "</style>\n",
       "<table border=\"1\" class=\"dataframe\">\n",
       "  <thead>\n",
       "    <tr style=\"text-align: right;\">\n",
       "      <th>Variable</th>\n",
       "      <th>High</th>\n",
       "      <th>Low</th>\n",
       "    </tr>\n",
       "  </thead>\n",
       "  <tbody>\n",
       "    <tr>\n",
       "      <th>Low_AdultSecondary_PCTProgress</th>\n",
       "      <td>0.601892</td>\n",
       "      <td>0.48</td>\n",
       "    </tr>\n",
       "    <tr>\n",
       "      <th>HighIntBasicEd_Posttest</th>\n",
       "      <td>0.233061</td>\n",
       "      <td>0.211926</td>\n",
       "    </tr>\n",
       "    <tr>\n",
       "      <th>Completers_150time_men</th>\n",
       "      <td>36.1562</td>\n",
       "      <td>49.2963</td>\n",
       "    </tr>\n",
       "    <tr>\n",
       "      <th>Accosiates_Men_Percent</th>\n",
       "      <td>33.2375</td>\n",
       "      <td>38.0963</td>\n",
       "    </tr>\n",
       "    <tr>\n",
       "      <th>American Indian or Alaska Native total</th>\n",
       "      <td>20.7812</td>\n",
       "      <td>96.1481</td>\n",
       "    </tr>\n",
       "    <tr>\n",
       "      <th>ABLBA</th>\n",
       "      <td>2.58623</td>\n",
       "      <td>4.25926</td>\n",
       "    </tr>\n",
       "    <tr>\n",
       "      <th>Unnamed: 6</th>\n",
       "      <td>0.295718</td>\n",
       "      <td>0.245185</td>\n",
       "    </tr>\n",
       "    <tr>\n",
       "      <th>HighIntBasicEd_Participant_POP_MSG</th>\n",
       "      <td>0.418275</td>\n",
       "      <td>0.362963</td>\n",
       "    </tr>\n",
       "    <tr>\n",
       "      <th>PracticalNursing_NumTest2017</th>\n",
       "      <td>19.4945</td>\n",
       "      <td>19.1209</td>\n",
       "    </tr>\n",
       "    <tr>\n",
       "      <th>AwardLess1Year_Women_Number</th>\n",
       "      <td>91.1218</td>\n",
       "      <td>193.333</td>\n",
       "    </tr>\n",
       "  </tbody>\n",
       "</table>\n",
       "</div>"
      ],
      "text/plain": [
       "Variable                                    High       Low\n",
       "Low_AdultSecondary_PCTProgress          0.601892      0.48\n",
       "HighIntBasicEd_Posttest                 0.233061  0.211926\n",
       "Completers_150time_men                   36.1562   49.2963\n",
       "Accosiates_Men_Percent                   33.2375   38.0963\n",
       "American Indian or Alaska Native total   20.7812   96.1481\n",
       "ABLBA                                    2.58623   4.25926\n",
       "Unnamed: 6                              0.295718  0.245185\n",
       "HighIntBasicEd_Participant_POP_MSG      0.418275  0.362963\n",
       "PracticalNursing_NumTest2017             19.4945   19.1209\n",
       "AwardLess1Year_Women_Number              91.1218   193.333"
      ]
     },
     "execution_count": 401,
     "metadata": {},
     "output_type": "execute_result"
    }
   ],
   "source": [
    "stats_df\n"
   ]
  },
  {
   "cell_type": "code",
   "execution_count": 381,
   "metadata": {},
   "outputs": [],
   "source": [
    "#scale the above table so it all fits on one graph\n",
    "def scale_high(row):\n",
    "    if row['High'] > row['Low']:\n",
    "        val = row['High']/row['High']\n",
    "    else:\n",
    "        val = row['High']/row['Low']\n",
    "    return val\n",
    "\n",
    "def scale_low(row):\n",
    "    if row['Low'] > row['High']:\n",
    "        val = row['Low']/row['Low']\n",
    "    else:\n",
    "        val = row['Low']/row['High']\n",
    "    return val\n",
    "\n",
    "stats_df['High_Scaled'] = stats_df.apply(scale_high, axis=1)\n",
    "stats_df['Low_Scaled'] = stats_df.apply(scale_low, axis=1)"
   ]
  },
  {
   "cell_type": "code",
   "execution_count": 380,
   "metadata": {},
   "outputs": [
    {
     "data": {
      "image/png": "[encoded data removed]",
      "text/plain": [
       "<matplotlib.figure.Figure at 0xebcce920b8>"
      ]
     },
     "metadata": {},
     "output_type": "display_data"
    }
   ],
   "source": [
    "barWidth = 0.25\n",
    "\n",
    "bars1 = stats_df[\"High_Scaled\"]\n",
    "bars2 = stats_df[\"Low_Scaled\"]\n",
    "\n",
    "r1 = np.arange(len(bars1))\n",
    "r2 = [x + barWidth for x in r1]\n",
    "r3 = [x + barWidth for x in r2]\n",
    "\n",
    "plt.bar(r1, bars1, width=barWidth, edgecolor='white', label='High Group')\n",
    "plt.bar(r2, bars2, width=barWidth, edgecolor='white', label='Low Group')\n",
    "\n",
    "\n",
    "plt.xticks([r + barWidth for r in range(len(bars1))], stats_df.index.values.tolist(),rotation='vertical')\n",
    "plt.legend(loc='center', bbox_to_anchor=(1.15, .5))\n",
    "plt.title(\"Variable Averages by Progression Group\")\n",
    "plt.ylabel('Percent of Higher Value')\n",
    "\n",
    "plt.show()"
   ]
  },
  {
   "cell_type": "code",
   "execution_count": null,
   "metadata": {
    "collapsed": true
   },
   "outputs": [],
   "source": []
  }
 ],
 "metadata": {
  "kernelspec": {
   "display_name": "Python 3",
   "language": "python",
   "name": "python3"
  },
  "language_info": {
   "codemirror_mode": {
    "name": "ipython",
    "version": 3
   },
   "file_extension": ".py",
   "mimetype": "text/x-python",
   "name": "python",
   "nbconvert_exporter": "python",
   "pygments_lexer": "ipython3",
   "version": "3.6.3"
  }
 },
 "nbformat": 4,
 "nbformat_minor": 2
}
