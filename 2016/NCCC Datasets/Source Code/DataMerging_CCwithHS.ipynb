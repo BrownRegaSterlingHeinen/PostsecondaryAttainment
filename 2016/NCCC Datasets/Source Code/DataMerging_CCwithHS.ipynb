{
 "cells": [
  {
   "cell_type": "code",
   "execution_count": 1,
   "metadata": {},
   "outputs": [],
   "source": [
    "import pandas as pd\n",
    "import numpy as np"
   ]
  },
  {
   "cell_type": "code",
   "execution_count": 10,
   "metadata": {},
   "outputs": [],
   "source": [
    "# Get datasets to be merged\n",
    "url = 'https://github.com/BrownRegaSterlingHeinen/PostsecondaryAttainment/raw/master/2016/NCCC%20Datasets/mergedData.xlsx'\n",
    "mergedNCData = pd.read_excel(url)\n",
    "\n",
    "url2 = 'https://github.com/jakemdrew/EducationDataNC/raw/master/2016/School%20Datasets/PublicHighSchools2016.csv'\n",
    "hsData = pd.read_csv(url2)"
   ]
  },
  {
   "cell_type": "code",
   "execution_count": 3,
   "metadata": {
    "scrolled": true
   },
   "outputs": [
    {
     "name": "stdout",
     "output_type": "stream",
     "text": [
      "<class 'pandas.core.frame.DataFrame'>\n",
      "RangeIndex: 59 entries, 0 to 58\n",
      "Columns: 721 entries, County to $200,000 or more Number of Returns\n",
      "dtypes: float64(365), int64(68), object(288)\n",
      "memory usage: 332.4+ KB\n",
      "<class 'pandas.core.frame.DataFrame'>\n",
      "RangeIndex: 478 entries, 0 to 477\n",
      "Columns: 1256 entries, vphone_ad to WhitePct\n",
      "dtypes: float64(1215), int64(4), object(37)\n",
      "memory usage: 4.6+ MB\n"
     ]
    }
   ],
   "source": [
    "# View info\n",
    "mergedNCData.info()\n",
    "hsData.info()"
   ]
  },
  {
   "cell_type": "code",
   "execution_count": 4,
   "metadata": {},
   "outputs": [],
   "source": [
    "# Create function to get weighted average\n",
    "# http://pbpython.com/weighted-average.html\n",
    "def wavg(group, avg_name, weight_name):\n",
    "    d = group[avg_name]\n",
    "    w = group[weight_name]\n",
    "    try:\n",
    "        return (d * w).sum() / w.sum()\n",
    "    except ZeroDivisionError:\n",
    "        return d.mean()"
   ]
  },
  {
   "cell_type": "code",
   "execution_count": 12,
   "metadata": {},
   "outputs": [],
   "source": [
    "# One-hot encode important categorical variables\n",
    "hsData = pd.get_dummies(data=hsData, columns=[\"SPG Grade\", \"EVAAS Growth Status\"])"
   ]
  },
  {
   "cell_type": "code",
   "execution_count": 79,
   "metadata": {},
   "outputs": [
    {
     "name": "stdout",
     "output_type": "stream",
     "text": [
      "Column vphone_ad could not be weighted\n",
      "Column street_ad could not be weighted\n",
      "Column scity_ad could not be weighted\n",
      "Column state_ad could not be weighted\n",
      "Column type_cd could not be weighted\n",
      "Column category_cd could not be weighted\n",
      "Column url_ad could not be weighted\n",
      "Column grade_range_cd could not be weighted\n",
      "Column calendar_type_txt could not be weighted\n",
      "Column sna_pgm_type_cd could not be weighted\n",
      "Column cover_letter_ad could not be weighted\n",
      "Column school_type_txt could not be weighted\n",
      "Column calendar_only_txt could not be weighted\n",
      "Column title1_type_cd could not be weighted\n",
      "Column clp_ind could not be weighted\n",
      "Column focus_clp_ind could not be weighted\n",
      "Column summer_program_ind could not be weighted\n",
      "Column Lea_Name could not be weighted\n",
      "Column School_Name could not be weighted\n",
      "Column State_Name could not be weighted\n",
      "Column esea_status could not be weighted\n",
      "Column Grad_project_status could not be weighted\n",
      "Column stem could not be weighted\n",
      "Column url could not be weighted\n",
      "Column District Name could not be weighted\n",
      "Column School Name could not be weighted\n",
      "Column State Board Region could not be weighted\n",
      "Column Reading SPG Score could not be weighted\n",
      "Column Math SPG Score could not be weighted\n",
      "Column State Gap Compared could not be weighted\n",
      "Column Category_Cd could not be weighted\n",
      "Column Byod could not be weighted\n",
      "Column grades_BYOD could not be weighted\n",
      "Column _1_to_1_access could not be weighted\n",
      "Column grades_1_to_1_access could not be weighted\n"
     ]
    }
   ],
   "source": [
    "newhsData = pd.DataFrame()\n",
    "columns = list(hsData)\n",
    "for col in columns:\n",
    "    try:\n",
    "        newhsData[col] = hsData.groupby(\"Lea_Name\").apply(wavg, col, \"student_num\")\n",
    "    except:\n",
    "        print(\"Column\", col, \"could not be weighted\")"
   ]
  },
  {
   "cell_type": "code",
   "execution_count": 85,
   "metadata": {},
   "outputs": [],
   "source": [
    "# Get district names to bring back to DF\n",
    "keys = hsData.groupby(\"Lea_Name\")\n",
    "keys = keys.groups.keys()\n",
    "keys = list(keys)"
   ]
  },
  {
   "cell_type": "code",
   "execution_count": 86,
   "metadata": {},
   "outputs": [],
   "source": [
    "newhsData[\"Lea_Name\"] = keys"
   ]
  },
  {
   "cell_type": "code",
   "execution_count": 89,
   "metadata": {},
   "outputs": [
    {
     "name": "stdout",
     "output_type": "stream",
     "text": [
      "<class 'pandas.core.frame.DataFrame'>\n",
      "Index: 115 entries, Alamance-Burlington Schools to Yancey County Schools\n",
      "Columns: 1229 entries, year to Lea_Name\n",
      "dtypes: float64(1228), object(1)\n",
      "memory usage: 1.1+ MB\n"
     ]
    }
   ],
   "source": [
    "newhsData.info()"
   ]
  },
  {
   "cell_type": "code",
   "execution_count": 24,
   "metadata": {},
   "outputs": [],
   "source": [
    "# If you wanted to use the max student number instead of weighed average\n",
    "# https://stackoverflow.com/questions/15705630/python-getting-the-row-which-has-the-max-value-in-groups-using-groupby\n",
    "# hsDataMax = hsData.groupby(['Lea_Name'])['student_num'].transform(max) == hsData['student_num']\n",
    "# newhsData = hsData[hsDataMax]"
   ]
  },
  {
   "cell_type": "code",
   "execution_count": 90,
   "metadata": {},
   "outputs": [],
   "source": [
    "# Create county name for merging\n",
    "newhsData['County'] = newhsData['Lea_Name'].str.replace('Schools', '')\n",
    "newhsData['County'] = newhsData['County'].str.replace('County', '')\n",
    "newhsData['County'] = newhsData['County'].str.replace('Public', '')\n",
    "newhsData['County'] = newhsData['County'].str.rstrip()"
   ]
  },
  {
   "cell_type": "code",
   "execution_count": 91,
   "metadata": {},
   "outputs": [],
   "source": [
    "# Deal with mis-matched county names\n",
    "newhsData['County'] = newhsData['County'].str.replace('Alamance-Burlington', 'Alamance')\n",
    "newhsData['County'] = newhsData['County'].str.replace('Charlotte-Mecklenburg', 'Mecklenburg')\n",
    "newhsData['County'] = newhsData['County'].str.replace('Edgecombe   School', 'Edgecombe')\n",
    "newhsData['County'] = newhsData['County'].str.replace('Cumberland', 'Fayetteville')\n",
    "newhsData['County'] = newhsData['County'].str.replace('Nash-Rocky Mount', 'Nash')\n",
    "newhsData['County'] = newhsData['County'].str.replace('Rowan-Salisbury', 'Rowan')\n",
    "newhsData['County'] = newhsData['County'].str.replace('Edenton-Chowan', 'Chowan')"
   ]
  },
  {
   "cell_type": "code",
   "execution_count": 94,
   "metadata": {},
   "outputs": [],
   "source": [
    "mergedWithHS = pd.merge(mergedNCData, newhsData, on = \"County\")"
   ]
  },
  {
   "cell_type": "code",
   "execution_count": 95,
   "metadata": {},
   "outputs": [
    {
     "name": "stdout",
     "output_type": "stream",
     "text": [
      "<class 'pandas.core.frame.DataFrame'>\n",
      "Int64Index: 59 entries, 0 to 58\n",
      "Columns: 1950 entries, County to Lea_Name\n",
      "dtypes: float64(1593), int64(68), object(289)\n",
      "memory usage: 899.3+ KB\n"
     ]
    }
   ],
   "source": [
    "mergedWithHS.info()"
   ]
  },
  {
   "cell_type": "code",
   "execution_count": 97,
   "metadata": {},
   "outputs": [],
   "source": [
    "mergedWithHS.to_excel('mergedData_withHS.xlsx', index=False)"
   ]
  },
  {
   "cell_type": "code",
   "execution_count": null,
   "metadata": {},
   "outputs": [],
   "source": []
  }
 ],
 "metadata": {
  "kernelspec": {
   "display_name": "Python 3",
   "language": "python",
   "name": "python3"
  },
  "language_info": {
   "codemirror_mode": {
    "name": "ipython",
    "version": 3
   },
   "file_extension": ".py",
   "mimetype": "text/x-python",
   "name": "python",
   "nbconvert_exporter": "python",
   "pygments_lexer": "ipython3",
   "version": "3.6.5"
  }
 },
 "nbformat": 4,
 "nbformat_minor": 2
}
