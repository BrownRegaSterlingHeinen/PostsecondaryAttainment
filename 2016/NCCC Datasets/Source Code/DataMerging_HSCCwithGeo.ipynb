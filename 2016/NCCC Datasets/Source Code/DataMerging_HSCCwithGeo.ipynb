{
 "cells": [
  {
   "cell_type": "code",
   "execution_count": 1,
   "metadata": {},
   "outputs": [],
   "source": [
    "import pandas as pd\n",
    "import numpy as np"
   ]
  },
  {
   "cell_type": "code",
   "execution_count": 18,
   "metadata": {},
   "outputs": [],
   "source": [
    "# Get datasets to be merged\n",
    "geoData = pd.read_excel('geo_data_NC.xlsm')\n",
    "ccGeoData = pd.read_excel('geo_data_NC2.xlsm')\n",
    "\n",
    "url = 'https://github.com/BrownRegaSterlingHeinen/PostsecondaryAttainment/raw/master/2016/NCCC%20Datasets/mergedData.xlsx'\n",
    "mergedNCData = pd.read_excel(url)\n",
    "\n",
    "url2 = 'https://github.com/jakemdrew/EducationDataNC/raw/master/2016/School%20Datasets/PublicHighSchools2016.csv'\n",
    "hsData = pd.read_csv(url2)"
   ]
  },
  {
   "cell_type": "code",
   "execution_count": 20,
   "metadata": {
    "scrolled": true
   },
   "outputs": [
    {
     "name": "stdout",
     "output_type": "stream",
     "text": [
      "<class 'pandas.core.frame.DataFrame'>\n",
      "RangeIndex: 501 entries, 0 to 500\n",
      "Data columns (total 16 columns):\n",
      "unit_code                  501 non-null int64\n",
      "szip_ad                    501 non-null object\n",
      "Lea_Name                   501 non-null object\n",
      "School_Name                501 non-null object\n",
      "State_Name                 501 non-null object\n",
      "Latitude                   501 non-null float64\n",
      "Longitude                  501 non-null float64\n",
      "Min_Distance_CC_miles      501 non-null float64\n",
      "Min_CC_ID                  501 non-null int64\n",
      "Min_CC_Latitude            501 non-null float64\n",
      "Min_CC_Longitude           501 non-null float64\n",
      "2_Min_Distance_CC_miles    501 non-null float64\n",
      "2_Min_CC_ID                501 non-null int64\n",
      "Min_CC_Latitude.1          501 non-null float64\n",
      "Min_CC_Longitude.1         501 non-null float64\n",
      "HS_Address components      501 non-null object\n",
      "dtypes: float64(8), int64(3), object(5)\n",
      "memory usage: 62.7+ KB\n",
      "<class 'pandas.core.frame.DataFrame'>\n",
      "RangeIndex: 59 entries, 0 to 58\n",
      "Data columns (total 11 columns):\n",
      "UnitId                                                                                                     59 non-null int64\n",
      "County                                                                                                     59 non-null object\n",
      "College Name                                                                                               59 non-null object\n",
      "Street_Address                                                                                             59 non-null object\n",
      "City                                                                                                       59 non-null object\n",
      "State                                                                                                      59 non-null object\n",
      "Zip                                                                                                        59 non-null int64\n",
      "Latitude                                                                                                   59 non-null float64\n",
      "Longitude                                                                                                  59 non-null float64\n",
      "Address Components                                                                                         59 non-null object\n",
      "1247, Jimmie Kerr Road, Haw River, 13, Haw River, Alamance County, North Carolina, United States, 27258    0 non-null float64\n",
      "dtypes: float64(3), int64(2), object(6)\n",
      "memory usage: 5.1+ KB\n",
      "<class 'pandas.core.frame.DataFrame'>\n",
      "RangeIndex: 59 entries, 0 to 58\n",
      "Columns: 721 entries, County to $200,000 or more Number of Returns\n",
      "dtypes: float64(365), int64(68), object(288)\n",
      "memory usage: 332.4+ KB\n",
      "<class 'pandas.core.frame.DataFrame'>\n",
      "RangeIndex: 478 entries, 0 to 477\n",
      "Columns: 1256 entries, vphone_ad to WhitePct\n",
      "dtypes: float64(1215), int64(4), object(37)\n",
      "memory usage: 4.6+ MB\n"
     ]
    }
   ],
   "source": [
    "# View info\n",
    "geoData.info()\n",
    "ccGeoData.info()\n",
    "mergedNCData.info()\n",
    "hsData.info()"
   ]
  },
  {
   "cell_type": "code",
   "execution_count": 15,
   "metadata": {},
   "outputs": [],
   "source": [
    "geoWithHS = pd.merge(geoData, hsData, on = \"unit_code\")"
   ]
  },
  {
   "cell_type": "code",
   "execution_count": 17,
   "metadata": {},
   "outputs": [
    {
     "name": "stdout",
     "output_type": "stream",
     "text": [
      "<class 'pandas.core.frame.DataFrame'>\n",
      "Int64Index: 454 entries, 0 to 453\n",
      "Columns: 1278 entries, unit_code to EVAAS Growth Status_NotMet\n",
      "dtypes: float64(1223), int64(6), object(40), uint8(9)\n",
      "memory usage: 4.4+ MB\n"
     ]
    }
   ],
   "source": [
    "geoWithHS.info()"
   ]
  },
  {
   "cell_type": "code",
   "execution_count": 21,
   "metadata": {},
   "outputs": [],
   "source": [
    "geoWithCC = pd.merge(ccGeoData, mergedNCData, on = \"College Name\")"
   ]
  },
  {
   "cell_type": "code",
   "execution_count": 26,
   "metadata": {},
   "outputs": [],
   "source": [
    "geoWithCC = geoWithCC.rename(columns={'UnitId': 'Min_CC_ID'})"
   ]
  },
  {
   "cell_type": "code",
   "execution_count": 33,
   "metadata": {},
   "outputs": [],
   "source": [
    "geoHSCCData = geoWithHS.merge(geoWithCC, on=[\"Min_CC_ID\"])"
   ]
  },
  {
   "cell_type": "code",
   "execution_count": 34,
   "metadata": {},
   "outputs": [],
   "source": [
    "geoHSCCData.to_excel('mergedData_geoHSCC.xlsx', index=False)"
   ]
  },
  {
   "cell_type": "code",
   "execution_count": null,
   "metadata": {},
   "outputs": [],
   "source": []
  }
 ],
 "metadata": {
  "kernelspec": {
   "display_name": "Python 3",
   "language": "python",
   "name": "python3"
  },
  "language_info": {
   "codemirror_mode": {
    "name": "ipython",
    "version": 3
   },
   "file_extension": ".py",
   "mimetype": "text/x-python",
   "name": "python",
   "nbconvert_exporter": "python",
   "pygments_lexer": "ipython3",
   "version": "3.6.5"
  }
 },
 "nbformat": 4,
 "nbformat_minor": 2
}
